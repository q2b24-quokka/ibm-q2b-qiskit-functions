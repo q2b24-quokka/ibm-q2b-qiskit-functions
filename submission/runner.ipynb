{
 "cells": [
  {
   "cell_type": "code",
   "execution_count": 1,
   "metadata": {},
   "outputs": [
    {
     "name": "stdout",
     "output_type": "stream",
     "text": [
      "Requirement already satisfied: nltk in /Users/joyhwang/projects/q2b24-quokka/ibm-q2b-qiskit-functions/.venv/lib/python3.11/site-packages (3.9.1)\n",
      "Requirement already satisfied: click in /Users/joyhwang/projects/q2b24-quokka/ibm-q2b-qiskit-functions/.venv/lib/python3.11/site-packages (from nltk) (8.1.7)\n",
      "Requirement already satisfied: joblib in /Users/joyhwang/projects/q2b24-quokka/ibm-q2b-qiskit-functions/.venv/lib/python3.11/site-packages (from nltk) (1.4.2)\n",
      "Requirement already satisfied: regex>=2021.8.3 in /Users/joyhwang/projects/q2b24-quokka/ibm-q2b-qiskit-functions/.venv/lib/python3.11/site-packages (from nltk) (2024.11.6)\n",
      "Requirement already satisfied: tqdm in /Users/joyhwang/projects/q2b24-quokka/ibm-q2b-qiskit-functions/.venv/lib/python3.11/site-packages (from nltk) (4.67.1)\n",
      "Note: you may need to restart the kernel to use updated packages.\n",
      "Requirement already satisfied: huggingface_hub in /Users/joyhwang/projects/q2b24-quokka/ibm-q2b-qiskit-functions/.venv/lib/python3.11/site-packages (0.26.5)\n",
      "Requirement already satisfied: filelock in /Users/joyhwang/projects/q2b24-quokka/ibm-q2b-qiskit-functions/.venv/lib/python3.11/site-packages (from huggingface_hub) (3.16.1)\n",
      "Requirement already satisfied: fsspec>=2023.5.0 in /Users/joyhwang/projects/q2b24-quokka/ibm-q2b-qiskit-functions/.venv/lib/python3.11/site-packages (from huggingface_hub) (2024.9.0)\n",
      "Requirement already satisfied: packaging>=20.9 in /Users/joyhwang/projects/q2b24-quokka/ibm-q2b-qiskit-functions/.venv/lib/python3.11/site-packages (from huggingface_hub) (24.2)\n",
      "Requirement already satisfied: pyyaml>=5.1 in /Users/joyhwang/projects/q2b24-quokka/ibm-q2b-qiskit-functions/.venv/lib/python3.11/site-packages (from huggingface_hub) (6.0.2)\n",
      "Requirement already satisfied: requests in /Users/joyhwang/projects/q2b24-quokka/ibm-q2b-qiskit-functions/.venv/lib/python3.11/site-packages (from huggingface_hub) (2.32.3)\n",
      "Requirement already satisfied: tqdm>=4.42.1 in /Users/joyhwang/projects/q2b24-quokka/ibm-q2b-qiskit-functions/.venv/lib/python3.11/site-packages (from huggingface_hub) (4.67.1)\n",
      "Requirement already satisfied: typing-extensions>=3.7.4.3 in /Users/joyhwang/projects/q2b24-quokka/ibm-q2b-qiskit-functions/.venv/lib/python3.11/site-packages (from huggingface_hub) (4.12.2)\n",
      "Requirement already satisfied: charset-normalizer<4,>=2 in /Users/joyhwang/projects/q2b24-quokka/ibm-q2b-qiskit-functions/.venv/lib/python3.11/site-packages (from requests->huggingface_hub) (3.4.0)\n",
      "Requirement already satisfied: idna<4,>=2.5 in /Users/joyhwang/projects/q2b24-quokka/ibm-q2b-qiskit-functions/.venv/lib/python3.11/site-packages (from requests->huggingface_hub) (3.10)\n",
      "Requirement already satisfied: urllib3<3,>=1.21.1 in /Users/joyhwang/projects/q2b24-quokka/ibm-q2b-qiskit-functions/.venv/lib/python3.11/site-packages (from requests->huggingface_hub) (2.2.3)\n",
      "Requirement already satisfied: certifi>=2017.4.17 in /Users/joyhwang/projects/q2b24-quokka/ibm-q2b-qiskit-functions/.venv/lib/python3.11/site-packages (from requests->huggingface_hub) (2024.8.30)\n",
      "Note: you may need to restart the kernel to use updated packages.\n",
      "Requirement already satisfied: datasets in /Users/joyhwang/projects/q2b24-quokka/ibm-q2b-qiskit-functions/.venv/lib/python3.11/site-packages (3.2.0)\n",
      "Requirement already satisfied: filelock in /Users/joyhwang/projects/q2b24-quokka/ibm-q2b-qiskit-functions/.venv/lib/python3.11/site-packages (from datasets) (3.16.1)\n",
      "Requirement already satisfied: numpy>=1.17 in /Users/joyhwang/projects/q2b24-quokka/ibm-q2b-qiskit-functions/.venv/lib/python3.11/site-packages (from datasets) (1.26.4)\n",
      "Requirement already satisfied: pyarrow>=15.0.0 in /Users/joyhwang/projects/q2b24-quokka/ibm-q2b-qiskit-functions/.venv/lib/python3.11/site-packages (from datasets) (18.1.0)\n",
      "Requirement already satisfied: dill<0.3.9,>=0.3.0 in /Users/joyhwang/projects/q2b24-quokka/ibm-q2b-qiskit-functions/.venv/lib/python3.11/site-packages (from datasets) (0.3.8)\n",
      "Requirement already satisfied: pandas in /Users/joyhwang/projects/q2b24-quokka/ibm-q2b-qiskit-functions/.venv/lib/python3.11/site-packages (from datasets) (2.2.3)\n",
      "Requirement already satisfied: requests>=2.32.2 in /Users/joyhwang/projects/q2b24-quokka/ibm-q2b-qiskit-functions/.venv/lib/python3.11/site-packages (from datasets) (2.32.3)\n",
      "Requirement already satisfied: tqdm>=4.66.3 in /Users/joyhwang/projects/q2b24-quokka/ibm-q2b-qiskit-functions/.venv/lib/python3.11/site-packages (from datasets) (4.67.1)\n",
      "Requirement already satisfied: xxhash in /Users/joyhwang/projects/q2b24-quokka/ibm-q2b-qiskit-functions/.venv/lib/python3.11/site-packages (from datasets) (3.5.0)\n",
      "Requirement already satisfied: multiprocess<0.70.17 in /Users/joyhwang/projects/q2b24-quokka/ibm-q2b-qiskit-functions/.venv/lib/python3.11/site-packages (from datasets) (0.70.16)\n",
      "Requirement already satisfied: fsspec<=2024.9.0,>=2023.1.0 in /Users/joyhwang/projects/q2b24-quokka/ibm-q2b-qiskit-functions/.venv/lib/python3.11/site-packages (from fsspec[http]<=2024.9.0,>=2023.1.0->datasets) (2024.9.0)\n",
      "Requirement already satisfied: aiohttp in /Users/joyhwang/projects/q2b24-quokka/ibm-q2b-qiskit-functions/.venv/lib/python3.11/site-packages (from datasets) (3.11.10)\n",
      "Requirement already satisfied: huggingface-hub>=0.23.0 in /Users/joyhwang/projects/q2b24-quokka/ibm-q2b-qiskit-functions/.venv/lib/python3.11/site-packages (from datasets) (0.26.5)\n",
      "Requirement already satisfied: packaging in /Users/joyhwang/projects/q2b24-quokka/ibm-q2b-qiskit-functions/.venv/lib/python3.11/site-packages (from datasets) (24.2)\n",
      "Requirement already satisfied: pyyaml>=5.1 in /Users/joyhwang/projects/q2b24-quokka/ibm-q2b-qiskit-functions/.venv/lib/python3.11/site-packages (from datasets) (6.0.2)\n",
      "Requirement already satisfied: aiohappyeyeballs>=2.3.0 in /Users/joyhwang/projects/q2b24-quokka/ibm-q2b-qiskit-functions/.venv/lib/python3.11/site-packages (from aiohttp->datasets) (2.4.4)\n",
      "Requirement already satisfied: aiosignal>=1.1.2 in /Users/joyhwang/projects/q2b24-quokka/ibm-q2b-qiskit-functions/.venv/lib/python3.11/site-packages (from aiohttp->datasets) (1.3.1)\n",
      "Requirement already satisfied: attrs>=17.3.0 in /Users/joyhwang/projects/q2b24-quokka/ibm-q2b-qiskit-functions/.venv/lib/python3.11/site-packages (from aiohttp->datasets) (24.2.0)\n",
      "Requirement already satisfied: frozenlist>=1.1.1 in /Users/joyhwang/projects/q2b24-quokka/ibm-q2b-qiskit-functions/.venv/lib/python3.11/site-packages (from aiohttp->datasets) (1.5.0)\n",
      "Requirement already satisfied: multidict<7.0,>=4.5 in /Users/joyhwang/projects/q2b24-quokka/ibm-q2b-qiskit-functions/.venv/lib/python3.11/site-packages (from aiohttp->datasets) (6.1.0)\n",
      "Requirement already satisfied: propcache>=0.2.0 in /Users/joyhwang/projects/q2b24-quokka/ibm-q2b-qiskit-functions/.venv/lib/python3.11/site-packages (from aiohttp->datasets) (0.2.1)\n",
      "Requirement already satisfied: yarl<2.0,>=1.17.0 in /Users/joyhwang/projects/q2b24-quokka/ibm-q2b-qiskit-functions/.venv/lib/python3.11/site-packages (from aiohttp->datasets) (1.18.3)\n",
      "Requirement already satisfied: typing-extensions>=3.7.4.3 in /Users/joyhwang/projects/q2b24-quokka/ibm-q2b-qiskit-functions/.venv/lib/python3.11/site-packages (from huggingface-hub>=0.23.0->datasets) (4.12.2)\n",
      "Requirement already satisfied: charset-normalizer<4,>=2 in /Users/joyhwang/projects/q2b24-quokka/ibm-q2b-qiskit-functions/.venv/lib/python3.11/site-packages (from requests>=2.32.2->datasets) (3.4.0)\n",
      "Requirement already satisfied: idna<4,>=2.5 in /Users/joyhwang/projects/q2b24-quokka/ibm-q2b-qiskit-functions/.venv/lib/python3.11/site-packages (from requests>=2.32.2->datasets) (3.10)\n",
      "Requirement already satisfied: urllib3<3,>=1.21.1 in /Users/joyhwang/projects/q2b24-quokka/ibm-q2b-qiskit-functions/.venv/lib/python3.11/site-packages (from requests>=2.32.2->datasets) (2.2.3)\n",
      "Requirement already satisfied: certifi>=2017.4.17 in /Users/joyhwang/projects/q2b24-quokka/ibm-q2b-qiskit-functions/.venv/lib/python3.11/site-packages (from requests>=2.32.2->datasets) (2024.8.30)\n",
      "Requirement already satisfied: python-dateutil>=2.8.2 in /Users/joyhwang/projects/q2b24-quokka/ibm-q2b-qiskit-functions/.venv/lib/python3.11/site-packages (from pandas->datasets) (2.9.0.post0)\n",
      "Requirement already satisfied: pytz>=2020.1 in /Users/joyhwang/projects/q2b24-quokka/ibm-q2b-qiskit-functions/.venv/lib/python3.11/site-packages (from pandas->datasets) (2024.2)\n",
      "Requirement already satisfied: tzdata>=2022.7 in /Users/joyhwang/projects/q2b24-quokka/ibm-q2b-qiskit-functions/.venv/lib/python3.11/site-packages (from pandas->datasets) (2024.2)\n",
      "Requirement already satisfied: six>=1.5 in /Users/joyhwang/projects/q2b24-quokka/ibm-q2b-qiskit-functions/.venv/lib/python3.11/site-packages (from python-dateutil>=2.8.2->pandas->datasets) (1.17.0)\n",
      "Note: you may need to restart the kernel to use updated packages.\n"
     ]
    }
   ],
   "source": [
    "%pip install nltk\n",
    "%pip install huggingface_hub\n",
    "%pip install datasets"
   ]
  },
  {
   "cell_type": "code",
   "execution_count": null,
   "metadata": {},
   "outputs": [],
   "source": [
    "import re\n",
    "from datasets import load_dataset\n",
    "from IPython.display import display, Latex\n",
    "from datetime import datetime\n",
    "from shss import SHS, SHS_Search_Custom, SHS_Search_Native\n",
    "from shss.semnet import *\n",
    "from shss.utils import *"
   ]
  },
  {
   "cell_type": "code",
   "execution_count": 2,
   "metadata": {},
   "outputs": [
    {
     "name": "stdout",
     "output_type": "stream",
     "text": [
      "Semnet size: 171580\n",
      "Converted semnet size: 75533\n",
      "Semnet size: 423249\n",
      "Converted semnet size: 383095\n",
      "Semnet created with 440095 words\n"
     ]
    }
   ],
   "source": [
    "# load dataset\n",
    "DATASET = load_dataset('community-datasets/generics_kb', 'generics_kb_best')\n",
    "# load corpus\n",
    "semnet = meta_semnet()\n"
   ]
  },
  {
   "cell_type": "code",
   "execution_count": null,
   "metadata": {},
   "outputs": [],
   "source": []
  }
 ],
 "metadata": {
  "kernelspec": {
   "display_name": ".venv",
   "language": "python",
   "name": "python3"
  },
  "language_info": {
   "codemirror_mode": {
    "name": "ipython",
    "version": 3
   },
   "file_extension": ".py",
   "mimetype": "text/x-python",
   "name": "python",
   "nbconvert_exporter": "python",
   "pygments_lexer": "ipython3",
   "version": "3.11.11"
  }
 },
 "nbformat": 4,
 "nbformat_minor": 2
}
