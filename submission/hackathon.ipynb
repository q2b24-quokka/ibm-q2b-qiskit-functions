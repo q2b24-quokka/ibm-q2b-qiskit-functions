{
 "cells": [
  {
   "cell_type": "markdown",
   "metadata": {},
   "source": [
    "# Q2B Hackathon 2024\n",
    "\n",
    "## Track 1 Hackathon Prompt\n",
    "\n",
    "---\n",
    "\n",
    "### Overview:\n",
    "\n",
    "Last year, researchers began exploring problems that are difficult to simulate with brute-force classical methods, thanks to utility-scale quantum computers available on IBM Quantum™ Platform. But those experiments required a deep understanding of not just the quantum processing unit (QPU), but also the various error suppression and mitigation methods required to scale each individual problem.\n",
    "\n",
    "Now, as we embark on a mission to make utility more accessible, we’re launching a platform called the **Qiskit Functions Catalog**. Using the Qiskit Functions Catalog, developers can release Qiskit Functions that unlock those capabilities for enterprise developers and quantum computational scientists.\n",
    "\n",
    "---\n",
    "\n",
    "### Your Goal:\n",
    "\n",
    "The Track 1 Hackathon is about creating a business use case proposal that is built on a feature of the Qiskit Functions or Qiskit addons. You may choose to use an existing feature or create a new function to build your use case on. No matter what, your proposal must include real code as much as possible.\n",
    "\n",
    "This hackathon prompt is aimed at the near future: 1-2 years from now. After all, Qiskit Functions exist today and are already being used by industry professionals and researchers. Please do not create a business use case around aspects of quantum computing that are further in the future than 1-2 years (i.e., fault-tolerant devices, undiscovered algorithms, etc.).\n",
    "\n",
    "You will present your business use case to a panel of judges. The presentation is a graded part of your overall project score, so prepare accordingly.\n",
    "\n",
    "---\n",
    "\n",
    "### Project Requirements:\n",
    "\n",
    "Your business use case must include at least 3 of the following, but in general, the more you are able to include, the better your team will score:\n",
    "\n",
    "- A clear and well-detailed business use case\n",
    "- Real Qiskit code snippets or examples\n",
    "- Direct references to existing Qiskit functions or addons\n",
    "- Consideration for devices currently on the market, both from IBM Quantum and others\n",
    "- Thoughts on the market or types of customers\n",
    "- Thoughts on what type of work or research your use case would empower\n",
    "- Details about current limitations\n",
    "- Case studies or business reports which reinforce your use case\n",
    "- Roadblocks encountered while putting this use case together, and how your team overcame them\n",
    "\n",
    "---\n",
    "\n",
    "### Judging Criteria\n",
    "\n",
    "#### **Technical Aspects (30 total points):**\n",
    "- How well implemented is the Qiskit Function or Qiskit addon being discussed?\n",
    "- Is it new and novel?\n",
    "- Can the architecture serve users at a reasonable scale?\n",
    "- How accessible is the end-user application? Is it easy to use and intuitive for end users?\n",
    "\n",
    "#### **Business Aspects (25 total points):**\n",
    "- Does the use case include market fit, target audience, and business goals?\n",
    "- Does it properly introduce the use case and explain the interaction between business and user?\n",
    "\n",
    "#### **Usefulness and Complexity (25 total points):**\n",
    "- How useful is the project and how well-designed is it?\n",
    "- Can it be used in real-world business applications or serve as a valuable tool for individuals?\n",
    "- Are there ways this project could be further built out and refined upon?\n",
    "\n",
    "#### **Presentation (20 total points):**\n",
    "- How well did the team present their project?\n",
    "- Were they able to explain their decisions?\n",
    "- Did the entire team have a chance to speak?\n",
    "- Did they tell a cohesive story?\n",
    "- Does the business use case make sense when presented?"
   ]
  },
  {
   "cell_type": "markdown",
   "metadata": {},
   "source": [
    "### Using Aqora\n",
    "\n",
    "Add your solution below!\n",
    "\n",
    "To run the notebook in VS Code, you can click on the `Run All` button in the toolbar. You may need to select the kernel to run. When prompted select `Python Environments` and then `.venv` (Should be starred).\n",
    "\n",
    "> Note: You can add dependencies to your virtual environment by running `aqora add <dependency name>` or editing the `pyproject.toml` at the root of the project and running `aqora install`\n",
    "\n",
    "Once you're ready, you can open a terminal by clicking `Terminal` and then `New Terminal` in the context bar at the very top. To test your solution, run\n",
    "\n",
    "```bash\n",
    "aqora test\n",
    "```\n",
    "\n",
    "Finally, once all the tests are passing, to submit to **Aqora** run\n",
    "\n",
    "```bash\n",
    "aqora upload\n",
    "```"
   ]
  },
  {
   "cell_type": "code",
   "execution_count": null,
   "metadata": {},
   "outputs": [],
   "source": [
    "# Add your solution to this notebook"
   ]
  },
  {
   "cell_type": "code",
   "execution_count": null,
   "metadata": {},
   "outputs": [],
   "source": [
    "# Keep this line. This informs aqora that there is no automated metric\n",
    "output = None"
   ]
  }
 ],
 "metadata": {
  "language_info": {
   "name": "python"
  }
 },
 "nbformat": 4,
 "nbformat_minor": 2
}
