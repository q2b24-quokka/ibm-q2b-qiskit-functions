{
 "cells": [
  {
   "cell_type": "markdown",
   "metadata": {},
   "source": [
    "# Q2B Hackathon 2024"
   ]
  },
  {
   "cell_type": "markdown",
   "metadata": {},
   "source": [
    "## Track 1 Hackathon Prompt\n",
    "\n",
    "---\n",
    "\n",
    "### Overview:\n",
    "\n",
    "Last year, researchers began exploring problems that are difficult to simulate with brute-force classical methods, thanks to utility-scale quantum computers available on IBM Quantum™ Platform. But those experiments required a deep understanding of not just the quantum processing unit (QPU), but also the various error suppression and mitigation methods required to scale each individual problem.\n",
    "\n",
    "Now, as we embark on a mission to make utility more accessible, we’re launching a platform called the **Qiskit Functions Catalog**. Using the Qiskit Functions Catalog, developers can release Qiskit Functions that unlock those capabilities for enterprise developers and quantum computational scientists.\n",
    "\n",
    "---\n",
    "\n",
    "### Your Goal:\n",
    "\n",
    "The Track 1 Hackathon is about creating a business use case proposal that is built on a feature of the Qiskit Functions or Qiskit addons. You may choose to use an existing feature or create a new function to build your use case on. No matter what, your proposal must include real code as much as possible.\n",
    "\n",
    "This hackathon prompt is aimed at the near future: 1-2 years from now. After all, Qiskit Functions exist today and are already being used by industry professionals and researchers. Please do not create a business use case around aspects of quantum computing that are further in the future than 1-2 years (i.e., fault-tolerant devices, undiscovered algorithms, etc.).\n",
    "\n",
    "You will present your business use case to a panel of judges. The presentation is a graded part of your overall project score, so prepare accordingly.\n",
    "\n",
    "---\n",
    "\n",
    "### Project Requirements:\n",
    "\n",
    "Your business use case must include at least 3 of the following, but in general, the more you are able to include, the better your team will score:\n",
    "\n",
    "- A clear and well-detailed business use case\n",
    "- Real Qiskit code snippets or examples\n",
    "- Direct references to existing Qiskit functions or addons\n",
    "- Consideration for devices currently on the market, both from IBM Quantum and others\n",
    "- Thoughts on the market or types of customers\n",
    "- Thoughts on what type of work or research your use case would empower\n",
    "- Details about current limitations\n",
    "- Case studies or business reports which reinforce your use case\n",
    "- Roadblocks encountered while putting this use case together, and how your team overcame them\n",
    "\n",
    "---\n",
    "\n",
    "### Judging Criteria\n",
    "\n",
    "#### **Technical Aspects (30 total points):**\n",
    "- How well implemented is the Qiskit Function or Qiskit addon being discussed?\n",
    "- Is it new and novel?\n",
    "- Can the architecture serve users at a reasonable scale?\n",
    "- How accessible is the end-user application? Is it easy to use and intuitive for end users?\n",
    "\n",
    "#### **Business Aspects (25 total points):**\n",
    "- Does the use case include market fit, target audience, and business goals?\n",
    "- Does it properly introduce the use case and explain the interaction between business and user?\n",
    "\n",
    "#### **Usefulness and Complexity (25 total points):**\n",
    "- How useful is the project and how well-designed is it?\n",
    "- Can it be used in real-world business applications or serve as a valuable tool for individuals?\n",
    "- Are there ways this project could be further built out and refined upon?\n",
    "\n",
    "#### **Presentation (20 total points):**\n",
    "- How well did the team present their project?\n",
    "- Were they able to explain their decisions?\n",
    "- Did the entire team have a chance to speak?\n",
    "- Did they tell a cohesive story?\n",
    "- Does the business use case make sense when presented?"
   ]
  },
  {
   "cell_type": "markdown",
   "metadata": {},
   "source": [
    "# Quantum Search on a Semantic Hilbert Space\n",
    "**Team F**  \n",
    "Joy Hwang Woodworth, Alex Vargas, Khouloud Alkhammassi"
   ]
  },
  {
   "cell_type": "markdown",
   "metadata": {},
   "source": [
    "Install dependencies"
   ]
  },
  {
   "cell_type": "code",
   "execution_count": 1,
   "metadata": {
    "collapsed": true,
    "jupyter": {
     "outputs_hidden": true
    }
   },
   "outputs": [],
   "source": [
    "# # First time downloads\n",
    "# %pip install huggingface_hub\n",
    "# %pip install datasets\n",
    "# %pip install nltk\n",
    "# nltk.download('averaged_perceptron_tagger')\n",
    "# nltk.download('wordnet')\n",
    "# nltk.download('omw-1.4')"
   ]
  },
  {
   "cell_type": "code",
   "execution_count": 2,
   "metadata": {},
   "outputs": [],
   "source": [
    "import re\n",
    "from datasets import load_dataset\n",
    "from IPython.display import display, Latex\n",
    "from datetime import datetime\n",
    "from shss import SHS, SHS_Search_Custom, SHS_Search_Native, Corpus, SemanticHilbertSpace, SHSQuery, SemanticHilbertSpaceSearchCustom, SemanticHilbertSpaceSearchNative\n",
    "from shss.semnet import *\n",
    "from shss.utils import *"
   ]
  },
  {
   "cell_type": "markdown",
   "metadata": {},
   "source": [
    "## 1. Load Data\n",
    "### Load corpus dataset"
   ]
  },
  {
   "cell_type": "code",
   "execution_count": 3,
   "metadata": {
    "collapsed": true,
    "jupyter": {
     "outputs_hidden": true
    },
    "tags": []
   },
   "outputs": [],
   "source": [
    "DATASET = load_dataset('community-datasets/generics_kb', 'generics_kb_best')"
   ]
  },
  {
   "cell_type": "markdown",
   "metadata": {},
   "source": [
    "### Load semnet"
   ]
  },
  {
   "cell_type": "code",
   "execution_count": 4,
   "metadata": {
    "collapsed": true,
    "jupyter": {
     "outputs_hidden": true
    }
   },
   "outputs": [
    {
     "name": "stdout",
     "output_type": "stream",
     "text": [
      "Semnet size: 171580\n",
      "Converted semnet size: 75533\n",
      "Semnet size: 423249\n",
      "Converted semnet size: 383095\n",
      "Semnet created with 440095 words\n"
     ]
    }
   ],
   "source": [
    "semnet = meta_semnet()"
   ]
  },
  {
   "cell_type": "code",
   "execution_count": 5,
   "metadata": {
    "collapsed": true,
    "jupyter": {
     "outputs_hidden": true
    },
    "slideshow": {
     "slide_type": "slide"
    }
   },
   "outputs": [
    {
     "name": "stdout",
     "output_type": "stream",
     "text": [
      "{('dorymenia', 'n'): {'mollusk', 'worm', 'shell'}, ('dorymetaecus', 'n'): {'island', 'spider'}, ('dorymyrmex', 'n'): {'cone', 'subfamily', 'ant'}, ('doryonychus', 'n'): {'long', 'island'}, ('doryopteris', 'n'): {'fern', 'family', 'tropical'}}\n"
     ]
    }
   ],
   "source": [
    "# semnet sample for reference\n",
    "semnet_mini = { k:v for k,v in list(semnet.items())[110000:110005] }\n",
    "print(semnet_mini)"
   ]
  },
  {
   "cell_type": "markdown",
   "metadata": {},
   "source": [
    "***"
   ]
  },
  {
   "cell_type": "markdown",
   "metadata": {
    "tags": []
   },
   "source": [
    "## 2. Process dataset"
   ]
  },
  {
   "cell_type": "markdown",
   "metadata": {},
   "source": [
    "### Filter dataset and extract random sample"
   ]
  },
  {
   "cell_type": "code",
   "execution_count": 6,
   "metadata": {},
   "outputs": [],
   "source": [
    "# Filter for quality and length\n",
    "filtered = DATASET.filter( lambda row: row['score'] > 0.6 and len(row['generic_sentence']) <= 40 )"
   ]
  },
  {
   "cell_type": "code",
   "execution_count": 7,
   "metadata": {
    "tags": []
   },
   "outputs": [],
   "source": [
    "# #### OPTIONAL FILTERS ####\n",
    "# # Filter for specific word\n",
    "# word = 'ship'\n",
    "# def contains(word, sentence):\n",
    "#     reg = '\\\\b' + word\n",
    "#     m = re.search(reg, sentence)\n",
    "#     return True if m else False\n",
    "# filtered = DATASET.filter(lambda row: contains(word, row['generic_sentence']))\n",
    "\n",
    "# # Filter for sentence length\n",
    "# filtered = DATASET.filter( lambda row: len(row['generic_sentence']) <= 100 )"
   ]
  },
  {
   "cell_type": "code",
   "execution_count": 8,
   "metadata": {
    "collapsed": true,
    "jupyter": {
     "outputs_hidden": true
    }
   },
   "outputs": [
    {
     "name": "stdout",
     "output_type": "stream",
     "text": [
      "DID\tTEXT\n",
      "1\tShort fasts are usually safe for people in good health.\n",
      "2\tAgricultural fertilizers are the main source of nutrient pollution in downstate Illinois.\n",
      "3\tHuman wastes are an extensively used resource in many parts of the world.\n",
      "4\tObedience is the proof of love Love proves itself through actions.\n",
      "5\tCourtship varies between different birds and happens during migration for birds that migrate.\n"
     ]
    }
   ],
   "source": [
    "shuf = DATASET.shuffle()\n",
    "sample = shuf['train'][0:5]\n",
    "sentences = sample['generic_sentence']\n",
    "\n",
    "# Print randomly selected sentences\n",
    "print('DID\\tTEXT')\n",
    "for i,s in enumerate(sentences):\n",
    "    print(f'{i+1}\\t{s}')"
   ]
  },
  {
   "cell_type": "markdown",
   "metadata": {},
   "source": [
    "### Process sample\n",
    "#### Convert sample to corpus data structure"
   ]
  },
  {
   "cell_type": "code",
   "execution_count": 9,
   "metadata": {
    "collapsed": true,
    "jupyter": {
     "outputs_hidden": true
    }
   },
   "outputs": [],
   "source": [
    "corpus = Corpus(sentences, semnet)"
   ]
  },
  {
   "cell_type": "markdown",
   "metadata": {},
   "source": [
    "#### Create Semantic Hilbert Space\n",
    "Construct a Semantic Hilber Space (SHS) based on words in the corpus."
   ]
  },
  {
   "cell_type": "code",
   "execution_count": 10,
   "metadata": {
    "tags": []
   },
   "outputs": [],
   "source": [
    "shs = SemanticHilbertSpace(corpus, semnet)\n",
    "ts = datetime.now().strftime('%m_%d_%H%M%S')\n",
    "save_shs_data(sentences, corpus, shs, ts)   # writes SHS corpus to file"
   ]
  },
  {
   "cell_type": "markdown",
   "metadata": {},
   "source": [
    "***"
   ]
  },
  {
   "cell_type": "markdown",
   "metadata": {},
   "source": [
    "## 3. Experiment: Query SHS Corpus for Word"
   ]
  },
  {
   "cell_type": "markdown",
   "metadata": {},
   "source": [
    "### Construct queries"
   ]
  },
  {
   "cell_type": "code",
   "execution_count": 11,
   "metadata": {
    "collapsed": true,
    "jupyter": {
     "outputs_hidden": true
    }
   },
   "outputs": [
    {
     "name": "stdout",
     "output_type": "stream",
     "text": [
      "Query \"face\" consists of sememes {'person', 'form', 'object', 'feeling', 'human', 'work'} with target vector {202, 11, 140, 114, 51, 21}\n"
     ]
    }
   ],
   "source": [
    "target_word = 'face'\n",
    "target_query = SHSQuery(target_word, shs, semnet)\n",
    "print(f'Query \"{target_query.query}\" consists of sememes {target_query.sememes} with target vector {target_query.state}')"
   ]
  },
  {
   "cell_type": "markdown",
   "metadata": {},
   "source": [
    "### Create Semantic Hilbert Space Search (SHSS) Circuits"
   ]
  },
  {
   "cell_type": "code",
   "execution_count": 12,
   "metadata": {
    "collapsed": true,
    "jupyter": {
     "outputs_hidden": true
    }
   },
   "outputs": [],
   "source": [
    "# QUERY\n",
    "shss = SemanticHilbertSpaceSearchCustom(shs.num_sememes)\n",
    "shss.set_query(shs.corpus, target_query.state)"
   ]
  },
  {
   "cell_type": "code",
   "execution_count": 13,
   "metadata": {
    "collapsed": true,
    "jupyter": {
     "outputs_hidden": true
    }
   },
   "outputs": [
    {
     "name": "stdout",
     "output_type": "stream",
     "text": [
      "Sample circuit for query\n"
     ]
    },
    {
     "data": {
      "text/html": [
       "<pre style=\"word-wrap: normal;white-space: pre;background: #fff0;line-height: 1.1;font-family: &quot;Courier New&quot;,Courier,monospace\">             ┌─────────────────────────────────────────────────────────────────────────────────────────────────────────────────────────────────────────────────────────────────────────────────────────────────────────────────────────────────────────────────────────────────────────────────────────────────────────────────────────────────────────────────────────────────────────────────────────────────────────────────────────────────────────────────────────────────────────────────────────────────────────────────────────────────────────────────────────────────────────────────────────────────────────────────────────────────────────────────────────────────────────────────────────────────────────────────────────────────────────────────────────────────────────────────────────────────────────────────────────────────────────────────────────────────┐ ░ ┌──────────┐┌───┐┌───┐      1-Z ┌───┐┌───┐     ┌──────────┐┌───┐┌───┐      1-Z ┌───┐┌───┐     ┌──────────┐ ░ ┌──────────┐┌───┐┌───┐      1-Z ┌───┐┌───┐     ┌──────────┐ ░ ┌──────────┐┌───┐┌───┐      1-Z ┌───┐┌───┐     ┌──────────┐ ░ ┌──────────┐┌───┐┌───┐      1-Z ┌───┐┌───┐     ┌──────────┐ ░ ┌──────────┐┌───┐┌───┐      1-Z ┌───┐┌───┐     ┌──────────┐ ░ ┌──────────┐┌───┐┌───┐      1-Z ┌───┐┌───┐     ┌──────────┐ ░ ┌──────────┐┌───┐┌───┐      1-Z ┌───┐┌───┐     ┌──────────┐ ░ ┌──────────┐┌───┐┌───┐      1-Z ┌───┐┌───┐     ┌──────────┐ ░ ┌──────────┐┌───┐┌───┐      1-Z ┌───┐┌───┐     ┌──────────┐ ░ ┌──────────┐┌───┐┌───┐      1-Z ┌───┐┌───┐     ┌──────────┐ ░ ┌──────────┐┌───┐┌───┐      1-Z ┌───┐┌───┐     ┌──────────┐ ░ ┌──────────┐┌───┐┌───┐      1-Z ┌───┐┌───┐     ┌──────────┐ ░  ░ ┌─┐                     \n",
       "   q_0: ─|0>─┤0                                                                                                                                                                                                                                                                                                                                                                                                                                                                                                                                                                                                                                                                                                                                                                                                                                                                ├─░─┤0         ├┤ H ├┤ X ├───────■──┤ X ├┤ H ├─────┤0         ├┤ H ├┤ X ├───────■──┤ X ├┤ H ├─────┤0         ├─░─┤0         ├┤ H ├┤ X ├───────■──┤ X ├┤ H ├─────┤0         ├─░─┤0         ├┤ H ├┤ X ├───────■──┤ X ├┤ H ├─────┤0         ├─░─┤0         ├┤ H ├┤ X ├───────■──┤ X ├┤ H ├─────┤0         ├─░─┤0         ├┤ H ├┤ X ├───────■──┤ X ├┤ H ├─────┤0         ├─░─┤0         ├┤ H ├┤ X ├───────■──┤ X ├┤ H ├─────┤0         ├─░─┤0         ├┤ H ├┤ X ├───────■──┤ X ├┤ H ├─────┤0         ├─░─┤0         ├┤ H ├┤ X ├───────■──┤ X ├┤ H ├─────┤0         ├─░─┤0         ├┤ H ├┤ X ├───────■──┤ X ├┤ H ├─────┤0         ├─░─┤0         ├┤ H ├┤ X ├───────■──┤ X ├┤ H ├─────┤0         ├─░─┤0         ├┤ H ├┤ X ├───────■──┤ X ├┤ H ├─────┤0         ├─░─┤0         ├┤ H ├┤ X ├───────■──┤ X ├┤ H ├─────┤0         ├─░──░─┤M├─────────────────────\n",
       "             │                                                                                                                                                                                                                                                                                                                                                                                                                                                                                                                                                                                                                                                                                                                                                                                                                                                                 │ ░ │          │├───┤├───┤       │  ├───┤├───┤     │          │├───┤├───┤       │  ├───┤├───┤     │          │ ░ │          │├───┤├───┤       │  ├───┤├───┤     │          │ ░ │          │├───┤├───┤       │  ├───┤├───┤     │          │ ░ │          │├───┤├───┤       │  ├───┤├───┤     │          │ ░ │          │├───┤├───┤       │  ├───┤├───┤     │          │ ░ │          │├───┤├───┤       │  ├───┤├───┤     │          │ ░ │          │├───┤├───┤       │  ├───┤├───┤     │          │ ░ │          │├───┤├───┤       │  ├───┤├───┤     │          │ ░ │          │├───┤├───┤       │  ├───┤├───┤     │          │ ░ │          │├───┤├───┤       │  ├───┤├───┤     │          │ ░ │          │├───┤├───┤       │  ├───┤├───┤     │          │ ░ │          │├───┤├───┤       │  ├───┤├───┤     │          │ ░  ░ └╥┘┌─┐                  \n",
       "   q_1: ─|0>─┤1                                                                                                                                                                                                                                                                                                                                                                                                                                                                                                                                                                                                                                                                                                                                                                                                                                                                ├─░─┤1         ├┤ H ├┤ X ├───────■──┤ X ├┤ H ├─────┤1         ├┤ H ├┤ X ├───────■──┤ X ├┤ H ├─────┤1         ├─░─┤1         ├┤ H ├┤ X ├───────■──┤ X ├┤ H ├─────┤1         ├─░─┤1         ├┤ H ├┤ X ├───────■──┤ X ├┤ H ├─────┤1         ├─░─┤1         ├┤ H ├┤ X ├───────■──┤ X ├┤ H ├─────┤1         ├─░─┤1         ├┤ H ├┤ X ├───────■──┤ X ├┤ H ├─────┤1         ├─░─┤1         ├┤ H ├┤ X ├───────■──┤ X ├┤ H ├─────┤1         ├─░─┤1         ├┤ H ├┤ X ├───────■──┤ X ├┤ H ├─────┤1         ├─░─┤1         ├┤ H ├┤ X ├───────■──┤ X ├┤ H ├─────┤1         ├─░─┤1         ├┤ H ├┤ X ├───────■──┤ X ├┤ H ├─────┤1         ├─░─┤1         ├┤ H ├┤ X ├───────■──┤ X ├┤ H ├─────┤1         ├─░─┤1         ├┤ H ├┤ X ├───────■──┤ X ├┤ H ├─────┤1         ├─░─┤1         ├┤ H ├┤ X ├───────■──┤ X ├┤ H ├─────┤1         ├─░──░──╫─┤M├──────────────────\n",
       "             │                                                                                                                                                                                                                                                                                                                                                                                                                                                                                                                                                                                                                                                                                                                                                                                                                                                                 │ ░ │          │├───┤├───┤       │  ├───┤├───┤     │          │├───┤├───┤       │  ├───┤├───┤     │          │ ░ │          │├───┤├───┤       │  ├───┤├───┤     │          │ ░ │          │├───┤├───┤       │  ├───┤├───┤     │          │ ░ │          │├───┤├───┤       │  ├───┤├───┤     │          │ ░ │          │├───┤├───┤       │  ├───┤├───┤     │          │ ░ │          │├───┤├───┤       │  ├───┤├───┤     │          │ ░ │          │├───┤├───┤       │  ├───┤├───┤     │          │ ░ │          │├───┤├───┤       │  ├───┤├───┤     │          │ ░ │          │├───┤├───┤       │  ├───┤├───┤     │          │ ░ │          │├───┤├───┤       │  ├───┤├───┤     │          │ ░ │          │├───┤├───┤       │  ├───┤├───┤     │          │ ░ │          │├───┤├───┤       │  ├───┤├───┤     │          │ ░  ░  ║ └╥┘┌─┐               \n",
       "   q_2: ─|0>─┤2                                                                                                                                                                                                                                                                                                                                                                                                                                                                                                                                                                                                                                                                                                                                                                                                                                                                ├─░─┤2         ├┤ H ├┤ X ├───────■──┤ X ├┤ H ├─────┤2         ├┤ H ├┤ X ├───────■──┤ X ├┤ H ├─────┤2         ├─░─┤2         ├┤ H ├┤ X ├───────■──┤ X ├┤ H ├─────┤2         ├─░─┤2         ├┤ H ├┤ X ├───────■──┤ X ├┤ H ├─────┤2         ├─░─┤2         ├┤ H ├┤ X ├───────■──┤ X ├┤ H ├─────┤2         ├─░─┤2         ├┤ H ├┤ X ├───────■──┤ X ├┤ H ├─────┤2         ├─░─┤2         ├┤ H ├┤ X ├───────■──┤ X ├┤ H ├─────┤2         ├─░─┤2         ├┤ H ├┤ X ├───────■──┤ X ├┤ H ├─────┤2         ├─░─┤2         ├┤ H ├┤ X ├───────■──┤ X ├┤ H ├─────┤2         ├─░─┤2         ├┤ H ├┤ X ├───────■──┤ X ├┤ H ├─────┤2         ├─░─┤2         ├┤ H ├┤ X ├───────■──┤ X ├┤ H ├─────┤2         ├─░─┤2         ├┤ H ├┤ X ├───────■──┤ X ├┤ H ├─────┤2         ├─░─┤2         ├┤ H ├┤ X ├───────■──┤ X ├┤ H ├─────┤2         ├─░──░──╫──╫─┤M├───────────────\n",
       "             │                                                                                                                                                                                                                                                                                                                                                                                                                                                                                                                                                                                                                                                                                                                                                                                                                                                                 │ ░ │          │├───┤├───┤       │  ├───┤├───┤     │          │├───┤├───┤       │  ├───┤├───┤     │          │ ░ │          │├───┤├───┤       │  ├───┤├───┤     │          │ ░ │          │├───┤├───┤       │  ├───┤├───┤     │          │ ░ │          │├───┤├───┤       │  ├───┤├───┤     │          │ ░ │          │├───┤├───┤       │  ├───┤├───┤     │          │ ░ │          │├───┤├───┤       │  ├───┤├───┤     │          │ ░ │          │├───┤├───┤       │  ├───┤├───┤     │          │ ░ │          │├───┤├───┤       │  ├───┤├───┤     │          │ ░ │          │├───┤├───┤       │  ├───┤├───┤     │          │ ░ │          │├───┤├───┤       │  ├───┤├───┤     │          │ ░ │          │├───┤├───┤       │  ├───┤├───┤     │          │ ░ │          │├───┤├───┤       │  ├───┤├───┤     │          │ ░  ░  ║  ║ └╥┘┌─┐            \n",
       "   q_3: ─|0>─┤3                                                                                                                                                                                                                                                                                                                                                                                                                                                                                                                                                                                                                                                                                                                                                                                                                                                                ├─░─┤3         ├┤ H ├┤ X ├───────■──┤ X ├┤ H ├─────┤3         ├┤ H ├┤ X ├───────■──┤ X ├┤ H ├─────┤3         ├─░─┤3         ├┤ H ├┤ X ├───────■──┤ X ├┤ H ├─────┤3         ├─░─┤3         ├┤ H ├┤ X ├───────■──┤ X ├┤ H ├─────┤3         ├─░─┤3         ├┤ H ├┤ X ├───────■──┤ X ├┤ H ├─────┤3         ├─░─┤3         ├┤ H ├┤ X ├───────■──┤ X ├┤ H ├─────┤3         ├─░─┤3         ├┤ H ├┤ X ├───────■──┤ X ├┤ H ├─────┤3         ├─░─┤3         ├┤ H ├┤ X ├───────■──┤ X ├┤ H ├─────┤3         ├─░─┤3         ├┤ H ├┤ X ├───────■──┤ X ├┤ H ├─────┤3         ├─░─┤3         ├┤ H ├┤ X ├───────■──┤ X ├┤ H ├─────┤3         ├─░─┤3         ├┤ H ├┤ X ├───────■──┤ X ├┤ H ├─────┤3         ├─░─┤3         ├┤ H ├┤ X ├───────■──┤ X ├┤ H ├─────┤3         ├─░─┤3         ├┤ H ├┤ X ├───────■──┤ X ├┤ H ├─────┤3         ├─░──░──╫──╫──╫─┤M├────────────\n",
       "             │  State Preparation(0.14142,0,0,0,0,0,0,0,0,0,0,0,0,0,0,0,0,0,0,0,0,0,0,0,0,0,0,0,0,0,0,0,0,0,0,0,0,0,0,0,0,0,0.14142,0,0,0,0,0,0.14142,0,0,0,0,0,0,0,0,0,0,0,0,0,0,0,0,0,0,0,0,0,0,0,0,0,0,0,0,0.14142,0.14142,0.14142,0.14142,0.14142,0.14142,0,0,0,0,0.14142,0,0,0,0.14142,0,0,0,0,0,0.14142,0,0,0,0,0,0,0,0,0,0,0,0,0,0,0,0,0.14142,0,0.14142,0,0.14142,0.14142,0.14142,0.14142,0.14142,0,0,0,0,0,0,0,0,0,0,0,0,0,0,0,0,0,0,0,0,0,0,0,0,0,0,0,0,0,0,0,0.14142,0.14142,0.14142,0.14142,0.14142,0.14142,0.14142,0.14142,0.14142,0.14142,0.14142,0,0,0,0,0,0,0,0,0,0,0,0,0,0,0,0,0,0,0,0,0.14142,0.14142,0.14142,0.14142,0,0,0,0,0,0,0,0,0,0,0,0,0,0,0,0,0,0,0,0,0.14142,0.14142,0.14142,0.14142,0.14142,0.14142,0.14142,0.14142,0.14142,0.14142,0.14142,0.14142,0.14142,0.14142,0.14142,0.14142,0,0,0,0,0,0,0,0,0,0,0,0,0,0,0,0,0,0,0,0,0,0,0,0,0,0,0,0,0,0,0) │ ░ │  Unitary │├───┤├───┤       │  ├───┤├───┤     │  Unitary │├───┤├───┤       │  ├───┤├───┤     │  Unitary │ ░ │  Unitary │├───┤├───┤       │  ├───┤├───┤     │  Unitary │ ░ │  Unitary │├───┤├───┤       │  ├───┤├───┤     │  Unitary │ ░ │  Unitary │├───┤├───┤       │  ├───┤├───┤     │  Unitary │ ░ │  Unitary │├───┤├───┤       │  ├───┤├───┤     │  Unitary │ ░ │  Unitary │├───┤├───┤       │  ├───┤├───┤     │  Unitary │ ░ │  Unitary │├───┤├───┤       │  ├───┤├───┤     │  Unitary │ ░ │  Unitary │├───┤├───┤       │  ├───┤├───┤     │  Unitary │ ░ │  Unitary │├───┤├───┤       │  ├───┤├───┤     │  Unitary │ ░ │  Unitary │├───┤├───┤       │  ├───┤├───┤     │  Unitary │ ░ │  Unitary │├───┤├───┤       │  ├───┤├───┤     │  Unitary │ ░ │  Unitary │├───┤├───┤       │  ├───┤├───┤     │  Unitary │ ░  ░  ║  ║  ║ └╥┘┌─┐         \n",
       "   q_4: ─|0>─┤4                                                                                                                                                                                                                                                                                                                                                                                                                                                                                                                                                                                                                                                                                                                                                                                                                                                                ├─░─┤4         ├┤ H ├┤ X ├───────■──┤ X ├┤ H ├─────┤4         ├┤ H ├┤ X ├───────■──┤ X ├┤ H ├─────┤4         ├─░─┤4         ├┤ H ├┤ X ├───────■──┤ X ├┤ H ├─────┤4         ├─░─┤4         ├┤ H ├┤ X ├───────■──┤ X ├┤ H ├─────┤4         ├─░─┤4         ├┤ H ├┤ X ├───────■──┤ X ├┤ H ├─────┤4         ├─░─┤4         ├┤ H ├┤ X ├───────■──┤ X ├┤ H ├─────┤4         ├─░─┤4         ├┤ H ├┤ X ├───────■──┤ X ├┤ H ├─────┤4         ├─░─┤4         ├┤ H ├┤ X ├───────■──┤ X ├┤ H ├─────┤4         ├─░─┤4         ├┤ H ├┤ X ├───────■──┤ X ├┤ H ├─────┤4         ├─░─┤4         ├┤ H ├┤ X ├───────■──┤ X ├┤ H ├─────┤4         ├─░─┤4         ├┤ H ├┤ X ├───────■──┤ X ├┤ H ├─────┤4         ├─░─┤4         ├┤ H ├┤ X ├───────■──┤ X ├┤ H ├─────┤4         ├─░─┤4         ├┤ H ├┤ X ├───────■──┤ X ├┤ H ├─────┤4         ├─░──░──╫──╫──╫──╫─┤M├─────────\n",
       "             │                                                                                                                                                                                                                                                                                                                                                                                                                                                                                                                                                                                                                                                                                                                                                                                                                                                                 │ ░ │          │├───┤├───┤       │  ├───┤├───┤     │          │├───┤├───┤       │  ├───┤├───┤     │          │ ░ │          │├───┤├───┤       │  ├───┤├───┤     │          │ ░ │          │├───┤├───┤       │  ├───┤├───┤     │          │ ░ │          │├───┤├───┤       │  ├───┤├───┤     │          │ ░ │          │├───┤├───┤       │  ├───┤├───┤     │          │ ░ │          │├───┤├───┤       │  ├───┤├───┤     │          │ ░ │          │├───┤├───┤       │  ├───┤├───┤     │          │ ░ │          │├───┤├───┤       │  ├───┤├───┤     │          │ ░ │          │├───┤├───┤       │  ├───┤├───┤     │          │ ░ │          │├───┤├───┤       │  ├───┤├───┤     │          │ ░ │          │├───┤├───┤       │  ├───┤├───┤     │          │ ░ │          │├───┤├───┤       │  ├───┤├───┤     │          │ ░  ░  ║  ║  ║  ║ └╥┘┌─┐      \n",
       "   q_5: ─|0>─┤5                                                                                                                                                                                                                                                                                                                                                                                                                                                                                                                                                                                                                                                                                                                                                                                                                                                                ├─░─┤5         ├┤ H ├┤ X ├───────■──┤ X ├┤ H ├─────┤5         ├┤ H ├┤ X ├───────■──┤ X ├┤ H ├─────┤5         ├─░─┤5         ├┤ H ├┤ X ├───────■──┤ X ├┤ H ├─────┤5         ├─░─┤5         ├┤ H ├┤ X ├───────■──┤ X ├┤ H ├─────┤5         ├─░─┤5         ├┤ H ├┤ X ├───────■──┤ X ├┤ H ├─────┤5         ├─░─┤5         ├┤ H ├┤ X ├───────■──┤ X ├┤ H ├─────┤5         ├─░─┤5         ├┤ H ├┤ X ├───────■──┤ X ├┤ H ├─────┤5         ├─░─┤5         ├┤ H ├┤ X ├───────■──┤ X ├┤ H ├─────┤5         ├─░─┤5         ├┤ H ├┤ X ├───────■──┤ X ├┤ H ├─────┤5         ├─░─┤5         ├┤ H ├┤ X ├───────■──┤ X ├┤ H ├─────┤5         ├─░─┤5         ├┤ H ├┤ X ├───────■──┤ X ├┤ H ├─────┤5         ├─░─┤5         ├┤ H ├┤ X ├───────■──┤ X ├┤ H ├─────┤5         ├─░─┤5         ├┤ H ├┤ X ├───────■──┤ X ├┤ H ├─────┤5         ├─░──░──╫──╫──╫──╫──╫─┤M├──────\n",
       "             │                                                                                                                                                                                                                                                                                                                                                                                                                                                                                                                                                                                                                                                                                                                                                                                                                                                                 │ ░ │          │├───┤├───┤       │  ├───┤├───┤     │          │├───┤├───┤       │  ├───┤├───┤     │          │ ░ │          │├───┤├───┤       │  ├───┤├───┤     │          │ ░ │          │├───┤├───┤       │  ├───┤├───┤     │          │ ░ │          │├───┤├───┤       │  ├───┤├───┤     │          │ ░ │          │├───┤├───┤       │  ├───┤├───┤     │          │ ░ │          │├───┤├───┤       │  ├───┤├───┤     │          │ ░ │          │├───┤├───┤       │  ├───┤├───┤     │          │ ░ │          │├───┤├───┤       │  ├───┤├───┤     │          │ ░ │          │├───┤├───┤       │  ├───┤├───┤     │          │ ░ │          │├───┤├───┤       │  ├───┤├───┤     │          │ ░ │          │├───┤├───┤       │  ├───┤├───┤     │          │ ░ │          │├───┤├───┤       │  ├───┤├───┤     │          │ ░  ░  ║  ║  ║  ║  ║ └╥┘┌─┐   \n",
       "   q_6: ─|0>─┤6                                                                                                                                                                                                                                                                                                                                                                                                                                                                                                                                                                                                                                                                                                                                                                                                                                                                ├─░─┤6         ├┤ H ├┤ X ├───────■──┤ X ├┤ H ├─────┤6         ├┤ H ├┤ X ├───────■──┤ X ├┤ H ├─────┤6         ├─░─┤6         ├┤ H ├┤ X ├───────■──┤ X ├┤ H ├─────┤6         ├─░─┤6         ├┤ H ├┤ X ├───────■──┤ X ├┤ H ├─────┤6         ├─░─┤6         ├┤ H ├┤ X ├───────■──┤ X ├┤ H ├─────┤6         ├─░─┤6         ├┤ H ├┤ X ├───────■──┤ X ├┤ H ├─────┤6         ├─░─┤6         ├┤ H ├┤ X ├───────■──┤ X ├┤ H ├─────┤6         ├─░─┤6         ├┤ H ├┤ X ├───────■──┤ X ├┤ H ├─────┤6         ├─░─┤6         ├┤ H ├┤ X ├───────■──┤ X ├┤ H ├─────┤6         ├─░─┤6         ├┤ H ├┤ X ├───────■──┤ X ├┤ H ├─────┤6         ├─░─┤6         ├┤ H ├┤ X ├───────■──┤ X ├┤ H ├─────┤6         ├─░─┤6         ├┤ H ├┤ X ├───────■──┤ X ├┤ H ├─────┤6         ├─░─┤6         ├┤ H ├┤ X ├───────■──┤ X ├┤ H ├─────┤6         ├─░──░──╫──╫──╫──╫──╫──╫─┤M├───\n",
       "             │                                                                                                                                                                                                                                                                                                                                                                                                                                                                                                                                                                                                                                                                                                                                                                                                                                                                 │ ░ │          │├───┤├───┤┌───┐  │  ├───┤├───┤┌───┐│          │├───┤├───┤┌───┐  │  ├───┤├───┤┌───┐│          │ ░ │          │├───┤├───┤┌───┐  │  ├───┤├───┤┌───┐│          │ ░ │          │├───┤├───┤┌───┐  │  ├───┤├───┤┌───┐│          │ ░ │          │├───┤├───┤┌───┐  │  ├───┤├───┤┌───┐│          │ ░ │          │├───┤├───┤┌───┐  │  ├───┤├───┤┌───┐│          │ ░ │          │├───┤├───┤┌───┐  │  ├───┤├───┤┌───┐│          │ ░ │          │├───┤├───┤┌───┐  │  ├───┤├───┤┌───┐│          │ ░ │          │├───┤├───┤┌───┐  │  ├───┤├───┤┌───┐│          │ ░ │          │├───┤├───┤┌───┐  │  ├───┤├───┤┌───┐│          │ ░ │          │├───┤├───┤┌───┐  │  ├───┤├───┤┌───┐│          │ ░ │          │├───┤├───┤┌───┐  │  ├───┤├───┤┌───┐│          │ ░ │          │├───┤├───┤┌───┐  │  ├───┤├───┤┌───┐│          │ ░  ░  ║  ║  ║  ║  ║  ║ └╥┘┌─┐\n",
       "   q_7: ─|0>─┤7                                                                                                                                                                                                                                                                                                                                                                                                                                                                                                                                                                                                                                                                                                                                                                                                                                                                ├─░─┤7         ├┤ H ├┤ X ├┤ H ├──■──┤ H ├┤ X ├┤ H ├┤7         ├┤ H ├┤ X ├┤ H ├──■──┤ H ├┤ X ├┤ H ├┤7         ├─░─┤7         ├┤ H ├┤ X ├┤ H ├──■──┤ H ├┤ X ├┤ H ├┤7         ├─░─┤7         ├┤ H ├┤ X ├┤ H ├──■──┤ H ├┤ X ├┤ H ├┤7         ├─░─┤7         ├┤ H ├┤ X ├┤ H ├──■──┤ H ├┤ X ├┤ H ├┤7         ├─░─┤7         ├┤ H ├┤ X ├┤ H ├──■──┤ H ├┤ X ├┤ H ├┤7         ├─░─┤7         ├┤ H ├┤ X ├┤ H ├──■──┤ H ├┤ X ├┤ H ├┤7         ├─░─┤7         ├┤ H ├┤ X ├┤ H ├──■──┤ H ├┤ X ├┤ H ├┤7         ├─░─┤7         ├┤ H ├┤ X ├┤ H ├──■──┤ H ├┤ X ├┤ H ├┤7         ├─░─┤7         ├┤ H ├┤ X ├┤ H ├──■──┤ H ├┤ X ├┤ H ├┤7         ├─░─┤7         ├┤ H ├┤ X ├┤ H ├──■──┤ H ├┤ X ├┤ H ├┤7         ├─░─┤7         ├┤ H ├┤ X ├┤ H ├──■──┤ H ├┤ X ├┤ H ├┤7         ├─░─┤7         ├┤ H ├┤ X ├┤ H ├──■──┤ H ├┤ X ├┤ H ├┤7         ├─░──░──╫──╫──╫──╫──╫──╫──╫─┤M├\n",
       "             └─────────────────────────────────────────────────────────────────────────────────────────────────────────────────────────────────────────────────────────────────────────────────────────────────────────────────────────────────────────────────────────────────────────────────────────────────────────────────────────────────────────────────────────────────────────────────────────────────────────────────────────────────────────────────────────────────────────────────────────────────────────────────────────────────────────────────────────────────────────────────────────────────────────────────────────────────────────────────────────────────────────────────────────────────────────────────────────────────────────────────────────────────────────────────────────────────────────────────────────────────────────────────────────────────┘ ░ └──────────┘└───┘└───┘└───┘     └───┘└───┘└───┘└──────────┘└───┘└───┘└───┘     └───┘└───┘└───┘└──────────┘ ░ └──────────┘└───┘└───┘└───┘     └───┘└───┘└───┘└──────────┘ ░ └──────────┘└───┘└───┘└───┘     └───┘└───┘└───┘└──────────┘ ░ └──────────┘└───┘└───┘└───┘     └───┘└───┘└───┘└──────────┘ ░ └──────────┘└───┘└───┘└───┘     └───┘└───┘└───┘└──────────┘ ░ └──────────┘└───┘└───┘└───┘     └───┘└───┘└───┘└──────────┘ ░ └──────────┘└───┘└───┘└───┘     └───┘└───┘└───┘└──────────┘ ░ └──────────┘└───┘└───┘└───┘     └───┘└───┘└───┘└──────────┘ ░ └──────────┘└───┘└───┘└───┘     └───┘└───┘└───┘└──────────┘ ░ └──────────┘└───┘└───┘└───┘     └───┘└───┘└───┘└──────────┘ ░ └──────────┘└───┘└───┘└───┘     └───┘└───┘└───┘└──────────┘ ░ └──────────┘└───┘└───┘└───┘     └───┘└───┘└───┘└──────────┘ ░  ░  ║  ║  ║  ║  ║  ║  ║ └╥┘\n",
       "meas: 8/══════════════════════════════════════════════════════════════════════════════════════════════════════════════════════════════════════════════════════════════════════════════════════════════════════════════════════════════════════════════════════════════════════════════════════════════════════════════════════════════════════════════════════════════════════════════════════════════════════════════════════════════════════════════════════════════════════════════════════════════════════════════════════════════════════════════════════════════════════════════════════════════════════════════════════════════════════════════════════════════════════════════════════════════════════════════════════════════════════════════════════════════════════════════════════════════════════════════════════════════════════════════════════════════════════════════════════════════════════════════════════════════════════════════════════════════════════════════════════════════════════════════════════════════════════════════════════════════════════════════════════════════════════════════════════════════════════════════════════════════════════════════════════════════════════════════════════════════════════════════════════════════════════════════════════════════════════════════════════════════════════════════════════════════════════════════════════════════════════════════════════════════════════════════════════════════════════════════════════════════════════════════════════════════════════════════════════════════════════════════════════════════════════════════════════════════════════════════════════════════════════════════════════════════════════╩══╩══╩══╩══╩══╩══╩══╩═\n",
       "                                                                                                                                                                                                                                                                                                                                                                                                                                                                                                                                                                                                                                                                                                                                                                                                                                                                                                                                                                                                                                                                                                                                                                                                                                                                                                                                                                                                                                                                                                                                                                                                                                                                                                              0  1  2  3  4  5  6  7 </pre>"
      ],
      "text/plain": [
       "             ┌─────────────────────────────────────────────────────────────────────────────────────────────────────────────────────────────────────────────────────────────────────────────────────────────────────────────────────────────────────────────────────────────────────────────────────────────────────────────────────────────────────────────────────────────────────────────────────────────────────────────────────────────────────────────────────────────────────────────────────────────────────────────────────────────────────────────────────────────────────────────────────────────────────────────────────────────────────────────────────────────────────────────────────────────────────────────────────────────────────────────────────────────────────────────────────────────────────────────────────────────────────────────────────────────────┐ ░ ┌──────────┐┌───┐┌───┐      1-Z ┌───┐┌───┐     ┌──────────┐┌───┐┌───┐      1-Z ┌───┐┌───┐     ┌──────────┐ ░ ┌──────────┐┌───┐┌───┐      1-Z ┌───┐┌───┐     ┌──────────┐ ░ ┌──────────┐┌───┐┌───┐      1-Z ┌───┐┌───┐     ┌──────────┐ ░ ┌──────────┐┌───┐┌───┐      1-Z ┌───┐┌───┐     ┌──────────┐ ░ ┌──────────┐┌───┐┌───┐      1-Z ┌───┐┌───┐     ┌──────────┐ ░ ┌──────────┐┌───┐┌───┐      1-Z ┌───┐┌───┐     ┌──────────┐ ░ ┌──────────┐┌───┐┌───┐      1-Z ┌───┐┌───┐     ┌──────────┐ ░ ┌──────────┐┌───┐┌───┐      1-Z ┌───┐┌───┐     ┌──────────┐ ░ ┌──────────┐┌───┐┌───┐      1-Z ┌───┐┌───┐     ┌──────────┐ ░ ┌──────────┐┌───┐┌───┐      1-Z ┌───┐┌───┐     ┌──────────┐ ░ ┌──────────┐┌───┐┌───┐      1-Z ┌───┐┌───┐     ┌──────────┐ ░ ┌──────────┐┌───┐┌───┐      1-Z ┌───┐┌───┐     ┌──────────┐ ░  ░ ┌─┐                     \n",
       "   q_0: ─|0>─┤0                                                                                                                                                                                                                                                                                                                                                                                                                                                                                                                                                                                                                                                                                                                                                                                                                                                                ├─░─┤0         ├┤ H ├┤ X ├───────■──┤ X ├┤ H ├─────┤0         ├┤ H ├┤ X ├───────■──┤ X ├┤ H ├─────┤0         ├─░─┤0         ├┤ H ├┤ X ├───────■──┤ X ├┤ H ├─────┤0         ├─░─┤0         ├┤ H ├┤ X ├───────■──┤ X ├┤ H ├─────┤0         ├─░─┤0         ├┤ H ├┤ X ├───────■──┤ X ├┤ H ├─────┤0         ├─░─┤0         ├┤ H ├┤ X ├───────■──┤ X ├┤ H ├─────┤0         ├─░─┤0         ├┤ H ├┤ X ├───────■──┤ X ├┤ H ├─────┤0         ├─░─┤0         ├┤ H ├┤ X ├───────■──┤ X ├┤ H ├─────┤0         ├─░─┤0         ├┤ H ├┤ X ├───────■──┤ X ├┤ H ├─────┤0         ├─░─┤0         ├┤ H ├┤ X ├───────■──┤ X ├┤ H ├─────┤0         ├─░─┤0         ├┤ H ├┤ X ├───────■──┤ X ├┤ H ├─────┤0         ├─░─┤0         ├┤ H ├┤ X ├───────■──┤ X ├┤ H ├─────┤0         ├─░─┤0         ├┤ H ├┤ X ├───────■──┤ X ├┤ H ├─────┤0         ├─░──░─┤M├─────────────────────\n",
       "             │                                                                                                                                                                                                                                                                                                                                                                                                                                                                                                                                                                                                                                                                                                                                                                                                                                                                 │ ░ │          │├───┤├───┤       │  ├───┤├───┤     │          │├───┤├───┤       │  ├───┤├───┤     │          │ ░ │          │├───┤├───┤       │  ├───┤├───┤     │          │ ░ │          │├───┤├───┤       │  ├───┤├───┤     │          │ ░ │          │├───┤├───┤       │  ├───┤├───┤     │          │ ░ │          │├───┤├───┤       │  ├───┤├───┤     │          │ ░ │          │├───┤├───┤       │  ├───┤├───┤     │          │ ░ │          │├───┤├───┤       │  ├───┤├───┤     │          │ ░ │          │├───┤├───┤       │  ├───┤├───┤     │          │ ░ │          │├───┤├───┤       │  ├───┤├───┤     │          │ ░ │          │├───┤├───┤       │  ├───┤├───┤     │          │ ░ │          │├───┤├───┤       │  ├───┤├───┤     │          │ ░ │          │├───┤├───┤       │  ├───┤├───┤     │          │ ░  ░ └╥┘┌─┐                  \n",
       "   q_1: ─|0>─┤1                                                                                                                                                                                                                                                                                                                                                                                                                                                                                                                                                                                                                                                                                                                                                                                                                                                                ├─░─┤1         ├┤ H ├┤ X ├───────■──┤ X ├┤ H ├─────┤1         ├┤ H ├┤ X ├───────■──┤ X ├┤ H ├─────┤1         ├─░─┤1         ├┤ H ├┤ X ├───────■──┤ X ├┤ H ├─────┤1         ├─░─┤1         ├┤ H ├┤ X ├───────■──┤ X ├┤ H ├─────┤1         ├─░─┤1         ├┤ H ├┤ X ├───────■──┤ X ├┤ H ├─────┤1         ├─░─┤1         ├┤ H ├┤ X ├───────■──┤ X ├┤ H ├─────┤1         ├─░─┤1         ├┤ H ├┤ X ├───────■──┤ X ├┤ H ├─────┤1         ├─░─┤1         ├┤ H ├┤ X ├───────■──┤ X ├┤ H ├─────┤1         ├─░─┤1         ├┤ H ├┤ X ├───────■──┤ X ├┤ H ├─────┤1         ├─░─┤1         ├┤ H ├┤ X ├───────■──┤ X ├┤ H ├─────┤1         ├─░─┤1         ├┤ H ├┤ X ├───────■──┤ X ├┤ H ├─────┤1         ├─░─┤1         ├┤ H ├┤ X ├───────■──┤ X ├┤ H ├─────┤1         ├─░─┤1         ├┤ H ├┤ X ├───────■──┤ X ├┤ H ├─────┤1         ├─░──░──╫─┤M├──────────────────\n",
       "             │                                                                                                                                                                                                                                                                                                                                                                                                                                                                                                                                                                                                                                                                                                                                                                                                                                                                 │ ░ │          │├───┤├───┤       │  ├───┤├───┤     │          │├───┤├───┤       │  ├───┤├───┤     │          │ ░ │          │├───┤├───┤       │  ├───┤├───┤     │          │ ░ │          │├───┤├───┤       │  ├───┤├───┤     │          │ ░ │          │├───┤├───┤       │  ├───┤├───┤     │          │ ░ │          │├───┤├───┤       │  ├───┤├───┤     │          │ ░ │          │├───┤├───┤       │  ├───┤├───┤     │          │ ░ │          │├───┤├───┤       │  ├───┤├───┤     │          │ ░ │          │├───┤├───┤       │  ├───┤├───┤     │          │ ░ │          │├───┤├───┤       │  ├───┤├───┤     │          │ ░ │          │├───┤├───┤       │  ├───┤├───┤     │          │ ░ │          │├───┤├───┤       │  ├───┤├───┤     │          │ ░ │          │├───┤├───┤       │  ├───┤├───┤     │          │ ░  ░  ║ └╥┘┌─┐               \n",
       "   q_2: ─|0>─┤2                                                                                                                                                                                                                                                                                                                                                                                                                                                                                                                                                                                                                                                                                                                                                                                                                                                                ├─░─┤2         ├┤ H ├┤ X ├───────■──┤ X ├┤ H ├─────┤2         ├┤ H ├┤ X ├───────■──┤ X ├┤ H ├─────┤2         ├─░─┤2         ├┤ H ├┤ X ├───────■──┤ X ├┤ H ├─────┤2         ├─░─┤2         ├┤ H ├┤ X ├───────■──┤ X ├┤ H ├─────┤2         ├─░─┤2         ├┤ H ├┤ X ├───────■──┤ X ├┤ H ├─────┤2         ├─░─┤2         ├┤ H ├┤ X ├───────■──┤ X ├┤ H ├─────┤2         ├─░─┤2         ├┤ H ├┤ X ├───────■──┤ X ├┤ H ├─────┤2         ├─░─┤2         ├┤ H ├┤ X ├───────■──┤ X ├┤ H ├─────┤2         ├─░─┤2         ├┤ H ├┤ X ├───────■──┤ X ├┤ H ├─────┤2         ├─░─┤2         ├┤ H ├┤ X ├───────■──┤ X ├┤ H ├─────┤2         ├─░─┤2         ├┤ H ├┤ X ├───────■──┤ X ├┤ H ├─────┤2         ├─░─┤2         ├┤ H ├┤ X ├───────■──┤ X ├┤ H ├─────┤2         ├─░─┤2         ├┤ H ├┤ X ├───────■──┤ X ├┤ H ├─────┤2         ├─░──░──╫──╫─┤M├───────────────\n",
       "             │                                                                                                                                                                                                                                                                                                                                                                                                                                                                                                                                                                                                                                                                                                                                                                                                                                                                 │ ░ │          │├───┤├───┤       │  ├───┤├───┤     │          │├───┤├───┤       │  ├───┤├───┤     │          │ ░ │          │├───┤├───┤       │  ├───┤├───┤     │          │ ░ │          │├───┤├───┤       │  ├───┤├───┤     │          │ ░ │          │├───┤├───┤       │  ├───┤├───┤     │          │ ░ │          │├───┤├───┤       │  ├───┤├───┤     │          │ ░ │          │├───┤├───┤       │  ├───┤├───┤     │          │ ░ │          │├───┤├───┤       │  ├───┤├───┤     │          │ ░ │          │├───┤├───┤       │  ├───┤├───┤     │          │ ░ │          │├───┤├───┤       │  ├───┤├───┤     │          │ ░ │          │├───┤├───┤       │  ├───┤├───┤     │          │ ░ │          │├───┤├───┤       │  ├───┤├───┤     │          │ ░ │          │├───┤├───┤       │  ├───┤├───┤     │          │ ░  ░  ║  ║ └╥┘┌─┐            \n",
       "   q_3: ─|0>─┤3                                                                                                                                                                                                                                                                                                                                                                                                                                                                                                                                                                                                                                                                                                                                                                                                                                                                ├─░─┤3         ├┤ H ├┤ X ├───────■──┤ X ├┤ H ├─────┤3         ├┤ H ├┤ X ├───────■──┤ X ├┤ H ├─────┤3         ├─░─┤3         ├┤ H ├┤ X ├───────■──┤ X ├┤ H ├─────┤3         ├─░─┤3         ├┤ H ├┤ X ├───────■──┤ X ├┤ H ├─────┤3         ├─░─┤3         ├┤ H ├┤ X ├───────■──┤ X ├┤ H ├─────┤3         ├─░─┤3         ├┤ H ├┤ X ├───────■──┤ X ├┤ H ├─────┤3         ├─░─┤3         ├┤ H ├┤ X ├───────■──┤ X ├┤ H ├─────┤3         ├─░─┤3         ├┤ H ├┤ X ├───────■──┤ X ├┤ H ├─────┤3         ├─░─┤3         ├┤ H ├┤ X ├───────■──┤ X ├┤ H ├─────┤3         ├─░─┤3         ├┤ H ├┤ X ├───────■──┤ X ├┤ H ├─────┤3         ├─░─┤3         ├┤ H ├┤ X ├───────■──┤ X ├┤ H ├─────┤3         ├─░─┤3         ├┤ H ├┤ X ├───────■──┤ X ├┤ H ├─────┤3         ├─░─┤3         ├┤ H ├┤ X ├───────■──┤ X ├┤ H ├─────┤3         ├─░──░──╫──╫──╫─┤M├────────────\n",
       "             │  State Preparation(0.14142,0,0,0,0,0,0,0,0,0,0,0,0,0,0,0,0,0,0,0,0,0,0,0,0,0,0,0,0,0,0,0,0,0,0,0,0,0,0,0,0,0,0.14142,0,0,0,0,0,0.14142,0,0,0,0,0,0,0,0,0,0,0,0,0,0,0,0,0,0,0,0,0,0,0,0,0,0,0,0,0.14142,0.14142,0.14142,0.14142,0.14142,0.14142,0,0,0,0,0.14142,0,0,0,0.14142,0,0,0,0,0,0.14142,0,0,0,0,0,0,0,0,0,0,0,0,0,0,0,0,0.14142,0,0.14142,0,0.14142,0.14142,0.14142,0.14142,0.14142,0,0,0,0,0,0,0,0,0,0,0,0,0,0,0,0,0,0,0,0,0,0,0,0,0,0,0,0,0,0,0,0.14142,0.14142,0.14142,0.14142,0.14142,0.14142,0.14142,0.14142,0.14142,0.14142,0.14142,0,0,0,0,0,0,0,0,0,0,0,0,0,0,0,0,0,0,0,0,0.14142,0.14142,0.14142,0.14142,0,0,0,0,0,0,0,0,0,0,0,0,0,0,0,0,0,0,0,0,0.14142,0.14142,0.14142,0.14142,0.14142,0.14142,0.14142,0.14142,0.14142,0.14142,0.14142,0.14142,0.14142,0.14142,0.14142,0.14142,0,0,0,0,0,0,0,0,0,0,0,0,0,0,0,0,0,0,0,0,0,0,0,0,0,0,0,0,0,0,0) │ ░ │  Unitary │├───┤├───┤       │  ├───┤├───┤     │  Unitary │├───┤├───┤       │  ├───┤├───┤     │  Unitary │ ░ │  Unitary │├───┤├───┤       │  ├───┤├───┤     │  Unitary │ ░ │  Unitary │├───┤├───┤       │  ├───┤├───┤     │  Unitary │ ░ │  Unitary │├───┤├───┤       │  ├───┤├───┤     │  Unitary │ ░ │  Unitary │├───┤├───┤       │  ├───┤├───┤     │  Unitary │ ░ │  Unitary │├───┤├───┤       │  ├───┤├───┤     │  Unitary │ ░ │  Unitary │├───┤├───┤       │  ├───┤├───┤     │  Unitary │ ░ │  Unitary │├───┤├───┤       │  ├───┤├───┤     │  Unitary │ ░ │  Unitary │├───┤├───┤       │  ├───┤├───┤     │  Unitary │ ░ │  Unitary │├───┤├───┤       │  ├───┤├───┤     │  Unitary │ ░ │  Unitary │├───┤├───┤       │  ├───┤├───┤     │  Unitary │ ░ │  Unitary │├───┤├───┤       │  ├───┤├───┤     │  Unitary │ ░  ░  ║  ║  ║ └╥┘┌─┐         \n",
       "   q_4: ─|0>─┤4                                                                                                                                                                                                                                                                                                                                                                                                                                                                                                                                                                                                                                                                                                                                                                                                                                                                ├─░─┤4         ├┤ H ├┤ X ├───────■──┤ X ├┤ H ├─────┤4         ├┤ H ├┤ X ├───────■──┤ X ├┤ H ├─────┤4         ├─░─┤4         ├┤ H ├┤ X ├───────■──┤ X ├┤ H ├─────┤4         ├─░─┤4         ├┤ H ├┤ X ├───────■──┤ X ├┤ H ├─────┤4         ├─░─┤4         ├┤ H ├┤ X ├───────■──┤ X ├┤ H ├─────┤4         ├─░─┤4         ├┤ H ├┤ X ├───────■──┤ X ├┤ H ├─────┤4         ├─░─┤4         ├┤ H ├┤ X ├───────■──┤ X ├┤ H ├─────┤4         ├─░─┤4         ├┤ H ├┤ X ├───────■──┤ X ├┤ H ├─────┤4         ├─░─┤4         ├┤ H ├┤ X ├───────■──┤ X ├┤ H ├─────┤4         ├─░─┤4         ├┤ H ├┤ X ├───────■──┤ X ├┤ H ├─────┤4         ├─░─┤4         ├┤ H ├┤ X ├───────■──┤ X ├┤ H ├─────┤4         ├─░─┤4         ├┤ H ├┤ X ├───────■──┤ X ├┤ H ├─────┤4         ├─░─┤4         ├┤ H ├┤ X ├───────■──┤ X ├┤ H ├─────┤4         ├─░──░──╫──╫──╫──╫─┤M├─────────\n",
       "             │                                                                                                                                                                                                                                                                                                                                                                                                                                                                                                                                                                                                                                                                                                                                                                                                                                                                 │ ░ │          │├───┤├───┤       │  ├───┤├───┤     │          │├───┤├───┤       │  ├───┤├───┤     │          │ ░ │          │├───┤├───┤       │  ├───┤├───┤     │          │ ░ │          │├───┤├───┤       │  ├───┤├───┤     │          │ ░ │          │├───┤├───┤       │  ├───┤├───┤     │          │ ░ │          │├───┤├───┤       │  ├───┤├───┤     │          │ ░ │          │├───┤├───┤       │  ├───┤├───┤     │          │ ░ │          │├───┤├───┤       │  ├───┤├───┤     │          │ ░ │          │├───┤├───┤       │  ├───┤├───┤     │          │ ░ │          │├───┤├───┤       │  ├───┤├───┤     │          │ ░ │          │├───┤├───┤       │  ├───┤├───┤     │          │ ░ │          │├───┤├───┤       │  ├───┤├───┤     │          │ ░ │          │├───┤├───┤       │  ├───┤├───┤     │          │ ░  ░  ║  ║  ║  ║ └╥┘┌─┐      \n",
       "   q_5: ─|0>─┤5                                                                                                                                                                                                                                                                                                                                                                                                                                                                                                                                                                                                                                                                                                                                                                                                                                                                ├─░─┤5         ├┤ H ├┤ X ├───────■──┤ X ├┤ H ├─────┤5         ├┤ H ├┤ X ├───────■──┤ X ├┤ H ├─────┤5         ├─░─┤5         ├┤ H ├┤ X ├───────■──┤ X ├┤ H ├─────┤5         ├─░─┤5         ├┤ H ├┤ X ├───────■──┤ X ├┤ H ├─────┤5         ├─░─┤5         ├┤ H ├┤ X ├───────■──┤ X ├┤ H ├─────┤5         ├─░─┤5         ├┤ H ├┤ X ├───────■──┤ X ├┤ H ├─────┤5         ├─░─┤5         ├┤ H ├┤ X ├───────■──┤ X ├┤ H ├─────┤5         ├─░─┤5         ├┤ H ├┤ X ├───────■──┤ X ├┤ H ├─────┤5         ├─░─┤5         ├┤ H ├┤ X ├───────■──┤ X ├┤ H ├─────┤5         ├─░─┤5         ├┤ H ├┤ X ├───────■──┤ X ├┤ H ├─────┤5         ├─░─┤5         ├┤ H ├┤ X ├───────■──┤ X ├┤ H ├─────┤5         ├─░─┤5         ├┤ H ├┤ X ├───────■──┤ X ├┤ H ├─────┤5         ├─░─┤5         ├┤ H ├┤ X ├───────■──┤ X ├┤ H ├─────┤5         ├─░──░──╫──╫──╫──╫──╫─┤M├──────\n",
       "             │                                                                                                                                                                                                                                                                                                                                                                                                                                                                                                                                                                                                                                                                                                                                                                                                                                                                 │ ░ │          │├───┤├───┤       │  ├───┤├───┤     │          │├───┤├───┤       │  ├───┤├───┤     │          │ ░ │          │├───┤├───┤       │  ├───┤├───┤     │          │ ░ │          │├───┤├───┤       │  ├───┤├───┤     │          │ ░ │          │├───┤├───┤       │  ├───┤├───┤     │          │ ░ │          │├───┤├───┤       │  ├───┤├───┤     │          │ ░ │          │├───┤├───┤       │  ├───┤├───┤     │          │ ░ │          │├───┤├───┤       │  ├───┤├───┤     │          │ ░ │          │├───┤├───┤       │  ├───┤├───┤     │          │ ░ │          │├───┤├───┤       │  ├───┤├───┤     │          │ ░ │          │├───┤├───┤       │  ├───┤├───┤     │          │ ░ │          │├───┤├───┤       │  ├───┤├───┤     │          │ ░ │          │├───┤├───┤       │  ├───┤├───┤     │          │ ░  ░  ║  ║  ║  ║  ║ └╥┘┌─┐   \n",
       "   q_6: ─|0>─┤6                                                                                                                                                                                                                                                                                                                                                                                                                                                                                                                                                                                                                                                                                                                                                                                                                                                                ├─░─┤6         ├┤ H ├┤ X ├───────■──┤ X ├┤ H ├─────┤6         ├┤ H ├┤ X ├───────■──┤ X ├┤ H ├─────┤6         ├─░─┤6         ├┤ H ├┤ X ├───────■──┤ X ├┤ H ├─────┤6         ├─░─┤6         ├┤ H ├┤ X ├───────■──┤ X ├┤ H ├─────┤6         ├─░─┤6         ├┤ H ├┤ X ├───────■──┤ X ├┤ H ├─────┤6         ├─░─┤6         ├┤ H ├┤ X ├───────■──┤ X ├┤ H ├─────┤6         ├─░─┤6         ├┤ H ├┤ X ├───────■──┤ X ├┤ H ├─────┤6         ├─░─┤6         ├┤ H ├┤ X ├───────■──┤ X ├┤ H ├─────┤6         ├─░─┤6         ├┤ H ├┤ X ├───────■──┤ X ├┤ H ├─────┤6         ├─░─┤6         ├┤ H ├┤ X ├───────■──┤ X ├┤ H ├─────┤6         ├─░─┤6         ├┤ H ├┤ X ├───────■──┤ X ├┤ H ├─────┤6         ├─░─┤6         ├┤ H ├┤ X ├───────■──┤ X ├┤ H ├─────┤6         ├─░─┤6         ├┤ H ├┤ X ├───────■──┤ X ├┤ H ├─────┤6         ├─░──░──╫──╫──╫──╫──╫──╫─┤M├───\n",
       "             │                                                                                                                                                                                                                                                                                                                                                                                                                                                                                                                                                                                                                                                                                                                                                                                                                                                                 │ ░ │          │├───┤├───┤┌───┐  │  ├───┤├───┤┌───┐│          │├───┤├───┤┌───┐  │  ├───┤├───┤┌───┐│          │ ░ │          │├───┤├───┤┌───┐  │  ├───┤├───┤┌───┐│          │ ░ │          │├───┤├───┤┌───┐  │  ├───┤├───┤┌───┐│          │ ░ │          │├───┤├───┤┌───┐  │  ├───┤├───┤┌───┐│          │ ░ │          │├───┤├───┤┌───┐  │  ├───┤├───┤┌───┐│          │ ░ │          │├───┤├───┤┌───┐  │  ├───┤├───┤┌───┐│          │ ░ │          │├───┤├───┤┌───┐  │  ├───┤├───┤┌───┐│          │ ░ │          │├───┤├───┤┌───┐  │  ├───┤├───┤┌───┐│          │ ░ │          │├───┤├───┤┌───┐  │  ├───┤├───┤┌───┐│          │ ░ │          │├───┤├───┤┌───┐  │  ├───┤├───┤┌───┐│          │ ░ │          │├───┤├───┤┌───┐  │  ├───┤├───┤┌───┐│          │ ░ │          │├───┤├───┤┌───┐  │  ├───┤├───┤┌───┐│          │ ░  ░  ║  ║  ║  ║  ║  ║ └╥┘┌─┐\n",
       "   q_7: ─|0>─┤7                                                                                                                                                                                                                                                                                                                                                                                                                                                                                                                                                                                                                                                                                                                                                                                                                                                                ├─░─┤7         ├┤ H ├┤ X ├┤ H ├──■──┤ H ├┤ X ├┤ H ├┤7         ├┤ H ├┤ X ├┤ H ├──■──┤ H ├┤ X ├┤ H ├┤7         ├─░─┤7         ├┤ H ├┤ X ├┤ H ├──■──┤ H ├┤ X ├┤ H ├┤7         ├─░─┤7         ├┤ H ├┤ X ├┤ H ├──■──┤ H ├┤ X ├┤ H ├┤7         ├─░─┤7         ├┤ H ├┤ X ├┤ H ├──■──┤ H ├┤ X ├┤ H ├┤7         ├─░─┤7         ├┤ H ├┤ X ├┤ H ├──■──┤ H ├┤ X ├┤ H ├┤7         ├─░─┤7         ├┤ H ├┤ X ├┤ H ├──■──┤ H ├┤ X ├┤ H ├┤7         ├─░─┤7         ├┤ H ├┤ X ├┤ H ├──■──┤ H ├┤ X ├┤ H ├┤7         ├─░─┤7         ├┤ H ├┤ X ├┤ H ├──■──┤ H ├┤ X ├┤ H ├┤7         ├─░─┤7         ├┤ H ├┤ X ├┤ H ├──■──┤ H ├┤ X ├┤ H ├┤7         ├─░─┤7         ├┤ H ├┤ X ├┤ H ├──■──┤ H ├┤ X ├┤ H ├┤7         ├─░─┤7         ├┤ H ├┤ X ├┤ H ├──■──┤ H ├┤ X ├┤ H ├┤7         ├─░─┤7         ├┤ H ├┤ X ├┤ H ├──■──┤ H ├┤ X ├┤ H ├┤7         ├─░──░──╫──╫──╫──╫──╫──╫──╫─┤M├\n",
       "             └─────────────────────────────────────────────────────────────────────────────────────────────────────────────────────────────────────────────────────────────────────────────────────────────────────────────────────────────────────────────────────────────────────────────────────────────────────────────────────────────────────────────────────────────────────────────────────────────────────────────────────────────────────────────────────────────────────────────────────────────────────────────────────────────────────────────────────────────────────────────────────────────────────────────────────────────────────────────────────────────────────────────────────────────────────────────────────────────────────────────────────────────────────────────────────────────────────────────────────────────────────────────────────────────────┘ ░ └──────────┘└───┘└───┘└───┘     └───┘└───┘└───┘└──────────┘└───┘└───┘└───┘     └───┘└───┘└───┘└──────────┘ ░ └──────────┘└───┘└───┘└───┘     └───┘└───┘└───┘└──────────┘ ░ └──────────┘└───┘└───┘└───┘     └───┘└───┘└───┘└──────────┘ ░ └──────────┘└───┘└───┘└───┘     └───┘└───┘└───┘└──────────┘ ░ └──────────┘└───┘└───┘└───┘     └───┘└───┘└───┘└──────────┘ ░ └──────────┘└───┘└───┘└───┘     └───┘└───┘└───┘└──────────┘ ░ └──────────┘└───┘└───┘└───┘     └───┘└───┘└───┘└──────────┘ ░ └──────────┘└───┘└───┘└───┘     └───┘└───┘└───┘└──────────┘ ░ └──────────┘└───┘└───┘└───┘     └───┘└───┘└───┘└──────────┘ ░ └──────────┘└───┘└───┘└───┘     └───┘└───┘└───┘└──────────┘ ░ └──────────┘└───┘└───┘└───┘     └───┘└───┘└───┘└──────────┘ ░ └──────────┘└───┘└───┘└───┘     └───┘└───┘└───┘└──────────┘ ░  ░  ║  ║  ║  ║  ║  ║  ║ └╥┘\n",
       "meas: 8/══════════════════════════════════════════════════════════════════════════════════════════════════════════════════════════════════════════════════════════════════════════════════════════════════════════════════════════════════════════════════════════════════════════════════════════════════════════════════════════════════════════════════════════════════════════════════════════════════════════════════════════════════════════════════════════════════════════════════════════════════════════════════════════════════════════════════════════════════════════════════════════════════════════════════════════════════════════════════════════════════════════════════════════════════════════════════════════════════════════════════════════════════════════════════════════════════════════════════════════════════════════════════════════════════════════════════════════════════════════════════════════════════════════════════════════════════════════════════════════════════════════════════════════════════════════════════════════════════════════════════════════════════════════════════════════════════════════════════════════════════════════════════════════════════════════════════════════════════════════════════════════════════════════════════════════════════════════════════════════════════════════════════════════════════════════════════════════════════════════════════════════════════════════════════════════════════════════════════════════════════════════════════════════════════════════════════════════════════════════════════════════════════════════════════════════════════════════════════════════════════════════════════════════════════════╩══╩══╩══╩══╩══╩══╩══╩═\n",
       "                                                                                                                                                                                                                                                                                                                                                                                                                                                                                                                                                                                                                                                                                                                                                                                                                                                                                                                                                                                                                                                                                                                                                                                                                                                                                                                                                                                                                                                                                                                                                                                                                                                                                                              0  1  2  3  4  5  6  7 "
      ]
     },
     "execution_count": 13,
     "metadata": {},
     "output_type": "execute_result"
    }
   ],
   "source": [
    "print('Sample circuit for query')\n",
    "shss.circuits[0].decompose().draw(fold=-1)"
   ]
  },
  {
   "cell_type": "markdown",
   "metadata": {},
   "source": [
    "### Run program"
   ]
  },
  {
   "cell_type": "code",
   "execution_count": 14,
   "metadata": {
    "collapsed": true,
    "jupyter": {
     "outputs_hidden": true
    }
   },
   "outputs": [
    {
     "name": "stdout",
     "output_type": "stream",
     "text": [
      "Backend: qasm_simulator | Num qubits: 8 | Num iterations: 11\n",
      "DOCUMENT 1: transpiling circuit\n",
      "DOCUMENT 1: running simulation\n",
      "DOCUMENT 2: transpiling circuit\n",
      "DOCUMENT 2: running simulation\n",
      "DOCUMENT 3: transpiling circuit\n",
      "DOCUMENT 3: running simulation\n",
      "DOCUMENT 4: transpiling circuit\n",
      "DOCUMENT 4: running simulation\n",
      "DOCUMENT 5: transpiling circuit\n",
      "DOCUMENT 5: running simulation\n"
     ]
    }
   ],
   "source": [
    "NUM_COUNTS = 25\t\t# show top x hits\n",
    "SHOTS = 1000\n",
    "results_custom = shss.run(shots=SHOTS, backend='qasm_simulator')"
   ]
  },
  {
   "cell_type": "markdown",
   "metadata": {},
   "source": [
    "#### Print Results"
   ]
  },
  {
   "cell_type": "code",
   "execution_count": 15,
   "metadata": {
    "tags": []
   },
   "outputs": [
    {
     "name": "stdout",
     "output_type": "stream",
     "text": [
      "Expected results for query \"face\":\n",
      "\n",
      "DID    MATCHES\n",
      "1      114\n",
      "2      114, 11, 140\n",
      "3      202, 11, 114\n",
      "4      114, 11, 140, 21\n",
      "5      51, 11\n",
      "\n",
      "Experiment results for custom gates - query \"face\":\n",
      "\n",
      "DOC 1:  []\n",
      "DOC 2:  [140]\n",
      "DOC 3:  [202]\n",
      "DOC 4:  [140]\n",
      "DOC 5:  []\n"
     ]
    }
   ],
   "source": [
    "print(f'Expected results for query \"{target_query.query}\":\\n')\n",
    "print_expected(shs.corpus, target_query.state)\n",
    "\n",
    "print(f'\\nExperiment results for custom gates - query \"{target_query.query}\":\\n')\n",
    "dc = get_decimal_counts(results_custom)\n",
    "answers = get_answers(dc, SHOTS, len(target_query.state))\n",
    "print_answers(answers)"
   ]
  },
  {
   "cell_type": "code",
   "execution_count": 16,
   "metadata": {
    "collapsed": true,
    "jupyter": {
     "outputs_hidden": true
    },
    "tags": []
   },
   "outputs": [],
   "source": [
    "plot_exp_counts(dec_counts=dc, top_num=NUM_COUNTS)"
   ]
  },
  {
   "cell_type": "markdown",
   "metadata": {},
   "source": [
    "***"
   ]
  },
  {
   "cell_type": "markdown",
   "metadata": {},
   "source": [
    "# 4. Experiment on Qiskit Native Gates\n",
    "## Implement QSA without custom unitary gates"
   ]
  },
  {
   "cell_type": "code",
   "execution_count": 17,
   "metadata": {
    "collapsed": true,
    "jupyter": {
     "outputs_hidden": true
    }
   },
   "outputs": [
    {
     "name": "stdout",
     "output_type": "stream",
     "text": [
      "Sample circuit for sememe query\n"
     ]
    },
    {
     "data": {
      "text/html": [
       "<pre style=\"word-wrap: normal;white-space: pre;background: #fff0;line-height: 1.1;font-family: &quot;Courier New&quot;,Courier,monospace\">       ┌──────────────────────────────────────────────────────────────────────────────────────────────────────────────────────────────────────────────────────────────────────────────────────────────────────────────────────────────────────────────────────────────────────────────────────────────────────────────────────────────────────────────────────────────────────────────────────────────────────────────────────────────────────────────────────────────────────────────────────────────────────────────────────────────────────────────────────────────────────────────────────────────────────────────────────────────────────────────────────────────────────────────────────────────────────────────────────────────────────────────────────────────────────────────────────────────────────────────────────────────────────────────────────────┐ ░       1-Z       ░ ┌───┐┌───┐      1-Z ┌───┐┌───┐     ┌─┐                     \n",
       "doc_0: ┤0                                                                                                                                                                                                                                                                                                                                                                                                                                                                                                                                                                                                                                                                                                                                                                                                                                                         ├─░────────■────────░─┤ H ├┤ X ├───────■──┤ X ├┤ H ├─────┤M├─────────────────────\n",
       "       │                                                                                                                                                                                                                                                                                                                                                                                                                                                                                                                                                                                                                                                                                                                                                                                                                                                          │ ░        │        ░ ├───┤├───┤       │  ├───┤├───┤     └╥┘┌─┐                  \n",
       "doc_1: ┤1                                                                                                                                                                                                                                                                                                                                                                                                                                                                                                                                                                                                                                                                                                                                                                                                                                                         ├─░────────■────────░─┤ H ├┤ X ├───────■──┤ X ├┤ H ├──────╫─┤M├──────────────────\n",
       "       │                                                                                                                                                                                                                                                                                                                                                                                                                                                                                                                                                                                                                                                                                                                                                                                                                                                          │ ░        │        ░ ├───┤├───┤       │  ├───┤├───┤      ║ └╥┘┌─┐               \n",
       "doc_2: ┤2                                                                                                                                                                                                                                                                                                                                                                                                                                                                                                                                                                                                                                                                                                                                                                                                                                                         ├─░────────■────────░─┤ H ├┤ X ├───────■──┤ X ├┤ H ├──────╫──╫─┤M├───────────────\n",
       "       │                                                                                                                                                                                                                                                                                                                                                                                                                                                                                                                                                                                                                                                                                                                                                                                                                                                          │ ░        │        ░ ├───┤├───┤       │  ├───┤├───┤      ║  ║ └╥┘┌─┐            \n",
       "doc_3: ┤3                                                                                                                                                                                                                                                                                                                                                                                                                                                                                                                                                                                                                                                                                                                                                                                                                                                         ├─░────────■────────░─┤ H ├┤ X ├───────■──┤ X ├┤ H ├──────╫──╫──╫─┤M├────────────\n",
       "       │  Initialize(0.14142,0,0,0,0,0,0,0,0,0,0,0,0,0,0,0,0,0,0,0,0,0,0,0,0,0,0,0,0,0,0,0,0,0,0,0,0,0,0,0,0,0,0.14142,0,0,0,0,0,0.14142,0,0,0,0,0,0,0,0,0,0,0,0,0,0,0,0,0,0,0,0,0,0,0,0,0,0,0,0,0.14142,0.14142,0.14142,0.14142,0.14142,0.14142,0,0,0,0,0.14142,0,0,0,0.14142,0,0,0,0,0,0.14142,0,0,0,0,0,0,0,0,0,0,0,0,0,0,0,0,0.14142,0,0.14142,0,0.14142,0.14142,0.14142,0.14142,0.14142,0,0,0,0,0,0,0,0,0,0,0,0,0,0,0,0,0,0,0,0,0,0,0,0,0,0,0,0,0,0,0,0.14142,0.14142,0.14142,0.14142,0.14142,0.14142,0.14142,0.14142,0.14142,0.14142,0.14142,0,0,0,0,0,0,0,0,0,0,0,0,0,0,0,0,0,0,0,0,0.14142,0.14142,0.14142,0.14142,0,0,0,0,0,0,0,0,0,0,0,0,0,0,0,0,0,0,0,0,0.14142,0.14142,0.14142,0.14142,0.14142,0.14142,0.14142,0.14142,0.14142,0.14142,0.14142,0.14142,0.14142,0.14142,0.14142,0.14142,0,0,0,0,0,0,0,0,0,0,0,0,0,0,0,0,0,0,0,0,0,0,0,0,0,0,0,0,0,0,0) │ ░        │        ░ ├───┤├───┤       │  ├───┤├───┤      ║  ║  ║ └╥┘┌─┐         \n",
       "doc_4: ┤4                                                                                                                                                                                                                                                                                                                                                                                                                                                                                                                                                                                                                                                                                                                                                                                                                                                         ├─░────────■────────░─┤ H ├┤ X ├───────■──┤ X ├┤ H ├──────╫──╫──╫──╫─┤M├─────────\n",
       "       │                                                                                                                                                                                                                                                                                                                                                                                                                                                                                                                                                                                                                                                                                                                                                                                                                                                          │ ░        │        ░ ├───┤├───┤       │  ├───┤├───┤      ║  ║  ║  ║ └╥┘┌─┐      \n",
       "doc_5: ┤5                                                                                                                                                                                                                                                                                                                                                                                                                                                                                                                                                                                                                                                                                                                                                                                                                                                         ├─░────────■────────░─┤ H ├┤ X ├───────■──┤ X ├┤ H ├──────╫──╫──╫──╫──╫─┤M├──────\n",
       "       │                                                                                                                                                                                                                                                                                                                                                                                                                                                                                                                                                                                                                                                                                                                                                                                                                                                          │ ░        │        ░ ├───┤├───┤       │  ├───┤├───┤      ║  ║  ║  ║  ║ └╥┘┌─┐   \n",
       "doc_6: ┤6                                                                                                                                                                                                                                                                                                                                                                                                                                                                                                                                                                                                                                                                                                                                                                                                                                                         ├─░────────■────────░─┤ H ├┤ X ├───────■──┤ X ├┤ H ├──────╫──╫──╫──╫──╫──╫─┤M├───\n",
       "       │                                                                                                                                                                                                                                                                                                                                                                                                                                                                                                                                                                                                                                                                                                                                                                                                                                                          │ ░        │        ░ ├───┤├───┤┌───┐  │  ├───┤├───┤┌───┐ ║  ║  ║  ║  ║  ║ └╥┘┌─┐\n",
       "doc_7: ┤7                                                                                                                                                                                                                                                                                                                                                                                                                                                                                                                                                                                                                                                                                                                                                                                                                                                         ├─░────────■────────░─┤ H ├┤ X ├┤ H ├──■──┤ H ├┤ X ├┤ H ├─╫──╫──╫──╫──╫──╫──╫─┤M├\n",
       "       └────────────────────────────────────────────────────────────────────────────────────────────────────────────────────────────────────────────────────────────────────────────────────────────────────────────────────────────────────────────────────────────────────────────────────────────────────────────────────────────────────────────────────────────────────────────────────────────────────────────────────┬───────────────┬─────────────────────────────────────────────────────────────────────────────────────────────────────────────────────────────────────────────────────────────────────────────────────────────────────────────────────────────────────────────────────────────────────────────────────────────────────────────────────────────────────────────────────────────────────────────────────────────────────────────────────┘ ░ ┌───┐  │  ┌───┐ ░ └───┘└───┘└───┘     └───┘└───┘└───┘ ║  ║  ║  ║  ║  ║  ║ └╥┘\n",
       "  anc: ─────────────────────────────────────────────────────────────────────────────────────────────────────────────────────────────────────────────────────────────────────────────────────────────────────────────────────────────────────────────────────────────────────────────────────────────────────────────────────────────────────────────────────────────────────────────────────────────────────────────────────┤ Initialize(1) ├───────────────────────────────────────────────────────────────────────────────────────────────────────────────────────────────────────────────────────────────────────────────────────────────────────────────────────────────────────────────────────────────────────────────────────────────────────────────────────────────────────────────────────────────────────────────────────────────────────────────────────░─┤ H ├──■──┤ H ├─░─────────────────────────────────────╫──╫──╫──╫──╫──╫──╫──╫─\n",
       "                                                                                                                                                                                                                                                                                                                                                                                                                            └───────────────┘                                                                                                                                                                                                                                                                                                                                                                                                                       ░ └───┘     └───┘ ░                                     ║  ║  ║  ║  ║  ║  ║  ║ \n",
       "out: 8/═════════════════════════════════════════════════════════════════════════════════════════════════════════════════════════════════════════════════════════════════════════════════════════════════════════════════════════════════════════════════════════════════════════════════════════════════════════════════════════════════════════════════════════════════════════════════════════════════════════════════════════════════════════════════════════════════════════════════════════════════════════════════════════════════════════════════════════════════════════════════════════════════════════════════════════════════════════════════════════════════════════════════════════════════════════════════════════════════════════════════════════════════════════════════════════════════════════════════════════════════════════════════════════════════════════════════════════════════════════════════════╩══╩══╩══╩══╩══╩══╩══╩═\n",
       "                                                                                                                                                                                                                                                                                                                                                                                                                                                                                                                                                                                                                                                                                                                                                                                                                                                                                                                            0  1  2  3  4  5  6  7 </pre>"
      ],
      "text/plain": [
       "       ┌──────────────────────────────────────────────────────────────────────────────────────────────────────────────────────────────────────────────────────────────────────────────────────────────────────────────────────────────────────────────────────────────────────────────────────────────────────────────────────────────────────────────────────────────────────────────────────────────────────────────────────────────────────────────────────────────────────────────────────────────────────────────────────────────────────────────────────────────────────────────────────────────────────────────────────────────────────────────────────────────────────────────────────────────────────────────────────────────────────────────────────────────────────────────────────────────────────────────────────────────────────────────────────────┐ ░       1-Z       ░ ┌───┐┌───┐      1-Z ┌───┐┌───┐     ┌─┐                     \n",
       "doc_0: ┤0                                                                                                                                                                                                                                                                                                                                                                                                                                                                                                                                                                                                                                                                                                                                                                                                                                                         ├─░────────■────────░─┤ H ├┤ X ├───────■──┤ X ├┤ H ├─────┤M├─────────────────────\n",
       "       │                                                                                                                                                                                                                                                                                                                                                                                                                                                                                                                                                                                                                                                                                                                                                                                                                                                          │ ░        │        ░ ├───┤├───┤       │  ├───┤├───┤     └╥┘┌─┐                  \n",
       "doc_1: ┤1                                                                                                                                                                                                                                                                                                                                                                                                                                                                                                                                                                                                                                                                                                                                                                                                                                                         ├─░────────■────────░─┤ H ├┤ X ├───────■──┤ X ├┤ H ├──────╫─┤M├──────────────────\n",
       "       │                                                                                                                                                                                                                                                                                                                                                                                                                                                                                                                                                                                                                                                                                                                                                                                                                                                          │ ░        │        ░ ├───┤├───┤       │  ├───┤├───┤      ║ └╥┘┌─┐               \n",
       "doc_2: ┤2                                                                                                                                                                                                                                                                                                                                                                                                                                                                                                                                                                                                                                                                                                                                                                                                                                                         ├─░────────■────────░─┤ H ├┤ X ├───────■──┤ X ├┤ H ├──────╫──╫─┤M├───────────────\n",
       "       │                                                                                                                                                                                                                                                                                                                                                                                                                                                                                                                                                                                                                                                                                                                                                                                                                                                          │ ░        │        ░ ├───┤├───┤       │  ├───┤├───┤      ║  ║ └╥┘┌─┐            \n",
       "doc_3: ┤3                                                                                                                                                                                                                                                                                                                                                                                                                                                                                                                                                                                                                                                                                                                                                                                                                                                         ├─░────────■────────░─┤ H ├┤ X ├───────■──┤ X ├┤ H ├──────╫──╫──╫─┤M├────────────\n",
       "       │  Initialize(0.14142,0,0,0,0,0,0,0,0,0,0,0,0,0,0,0,0,0,0,0,0,0,0,0,0,0,0,0,0,0,0,0,0,0,0,0,0,0,0,0,0,0,0.14142,0,0,0,0,0,0.14142,0,0,0,0,0,0,0,0,0,0,0,0,0,0,0,0,0,0,0,0,0,0,0,0,0,0,0,0,0.14142,0.14142,0.14142,0.14142,0.14142,0.14142,0,0,0,0,0.14142,0,0,0,0.14142,0,0,0,0,0,0.14142,0,0,0,0,0,0,0,0,0,0,0,0,0,0,0,0,0.14142,0,0.14142,0,0.14142,0.14142,0.14142,0.14142,0.14142,0,0,0,0,0,0,0,0,0,0,0,0,0,0,0,0,0,0,0,0,0,0,0,0,0,0,0,0,0,0,0,0.14142,0.14142,0.14142,0.14142,0.14142,0.14142,0.14142,0.14142,0.14142,0.14142,0.14142,0,0,0,0,0,0,0,0,0,0,0,0,0,0,0,0,0,0,0,0,0.14142,0.14142,0.14142,0.14142,0,0,0,0,0,0,0,0,0,0,0,0,0,0,0,0,0,0,0,0,0.14142,0.14142,0.14142,0.14142,0.14142,0.14142,0.14142,0.14142,0.14142,0.14142,0.14142,0.14142,0.14142,0.14142,0.14142,0.14142,0,0,0,0,0,0,0,0,0,0,0,0,0,0,0,0,0,0,0,0,0,0,0,0,0,0,0,0,0,0,0) │ ░        │        ░ ├───┤├───┤       │  ├───┤├───┤      ║  ║  ║ └╥┘┌─┐         \n",
       "doc_4: ┤4                                                                                                                                                                                                                                                                                                                                                                                                                                                                                                                                                                                                                                                                                                                                                                                                                                                         ├─░────────■────────░─┤ H ├┤ X ├───────■──┤ X ├┤ H ├──────╫──╫──╫──╫─┤M├─────────\n",
       "       │                                                                                                                                                                                                                                                                                                                                                                                                                                                                                                                                                                                                                                                                                                                                                                                                                                                          │ ░        │        ░ ├───┤├───┤       │  ├───┤├───┤      ║  ║  ║  ║ └╥┘┌─┐      \n",
       "doc_5: ┤5                                                                                                                                                                                                                                                                                                                                                                                                                                                                                                                                                                                                                                                                                                                                                                                                                                                         ├─░────────■────────░─┤ H ├┤ X ├───────■──┤ X ├┤ H ├──────╫──╫──╫──╫──╫─┤M├──────\n",
       "       │                                                                                                                                                                                                                                                                                                                                                                                                                                                                                                                                                                                                                                                                                                                                                                                                                                                          │ ░        │        ░ ├───┤├───┤       │  ├───┤├───┤      ║  ║  ║  ║  ║ └╥┘┌─┐   \n",
       "doc_6: ┤6                                                                                                                                                                                                                                                                                                                                                                                                                                                                                                                                                                                                                                                                                                                                                                                                                                                         ├─░────────■────────░─┤ H ├┤ X ├───────■──┤ X ├┤ H ├──────╫──╫──╫──╫──╫──╫─┤M├───\n",
       "       │                                                                                                                                                                                                                                                                                                                                                                                                                                                                                                                                                                                                                                                                                                                                                                                                                                                          │ ░        │        ░ ├───┤├───┤┌───┐  │  ├───┤├───┤┌───┐ ║  ║  ║  ║  ║  ║ └╥┘┌─┐\n",
       "doc_7: ┤7                                                                                                                                                                                                                                                                                                                                                                                                                                                                                                                                                                                                                                                                                                                                                                                                                                                         ├─░────────■────────░─┤ H ├┤ X ├┤ H ├──■──┤ H ├┤ X ├┤ H ├─╫──╫──╫──╫──╫──╫──╫─┤M├\n",
       "       └────────────────────────────────────────────────────────────────────────────────────────────────────────────────────────────────────────────────────────────────────────────────────────────────────────────────────────────────────────────────────────────────────────────────────────────────────────────────────────────────────────────────────────────────────────────────────────────────────────────────────┬───────────────┬─────────────────────────────────────────────────────────────────────────────────────────────────────────────────────────────────────────────────────────────────────────────────────────────────────────────────────────────────────────────────────────────────────────────────────────────────────────────────────────────────────────────────────────────────────────────────────────────────────────────────────┘ ░ ┌───┐  │  ┌───┐ ░ └───┘└───┘└───┘     └───┘└───┘└───┘ ║  ║  ║  ║  ║  ║  ║ └╥┘\n",
       "  anc: ─────────────────────────────────────────────────────────────────────────────────────────────────────────────────────────────────────────────────────────────────────────────────────────────────────────────────────────────────────────────────────────────────────────────────────────────────────────────────────────────────────────────────────────────────────────────────────────────────────────────────────┤ Initialize(1) ├───────────────────────────────────────────────────────────────────────────────────────────────────────────────────────────────────────────────────────────────────────────────────────────────────────────────────────────────────────────────────────────────────────────────────────────────────────────────────────────────────────────────────────────────────────────────────────────────────────────────────────░─┤ H ├──■──┤ H ├─░─────────────────────────────────────╫──╫──╫──╫──╫──╫──╫──╫─\n",
       "                                                                                                                                                                                                                                                                                                                                                                                                                            └───────────────┘                                                                                                                                                                                                                                                                                                                                                                                                                       ░ └───┘     └───┘ ░                                     ║  ║  ║  ║  ║  ║  ║  ║ \n",
       "out: 8/═════════════════════════════════════════════════════════════════════════════════════════════════════════════════════════════════════════════════════════════════════════════════════════════════════════════════════════════════════════════════════════════════════════════════════════════════════════════════════════════════════════════════════════════════════════════════════════════════════════════════════════════════════════════════════════════════════════════════════════════════════════════════════════════════════════════════════════════════════════════════════════════════════════════════════════════════════════════════════════════════════════════════════════════════════════════════════════════════════════════════════════════════════════════════════════════════════════════════════════════════════════════════════════════════════════════════════════════════════════════════════╩══╩══╩══╩══╩══╩══╩══╩═\n",
       "                                                                                                                                                                                                                                                                                                                                                                                                                                                                                                                                                                                                                                                                                                                                                                                                                                                                                                                            0  1  2  3  4  5  6  7 "
      ]
     },
     "execution_count": 17,
     "metadata": {},
     "output_type": "execute_result"
    }
   ],
   "source": [
    "shss_native = SemanticHilbertSpaceSearchNative(shs.num_sememes)\n",
    "shss_native.set_query(shs.corpus, target_query.state)\n",
    "print('Sample circuit for sememe query')\n",
    "shss_native.circuits[0].draw(fold=-1)"
   ]
  },
  {
   "cell_type": "code",
   "execution_count": 18,
   "metadata": {
    "collapsed": true,
    "jupyter": {
     "outputs_hidden": true
    }
   },
   "outputs": [
    {
     "name": "stdout",
     "output_type": "stream",
     "text": [
      "Backend: qasm_simulator | Num qubits: 8\n",
      "DOCUMENT 1: transpiling circuit\n",
      "DOCUMENT 1: running simulation\n",
      "DOCUMENT 2: transpiling circuit\n",
      "DOCUMENT 2: running simulation\n",
      "DOCUMENT 3: transpiling circuit\n",
      "DOCUMENT 3: running simulation\n",
      "DOCUMENT 4: transpiling circuit\n",
      "DOCUMENT 4: running simulation\n",
      "DOCUMENT 5: transpiling circuit\n",
      "DOCUMENT 5: running simulation\n"
     ]
    }
   ],
   "source": [
    "results_native = shss_native.run(shots=SHOTS, backend='qasm_simulator')"
   ]
  },
  {
   "cell_type": "code",
   "execution_count": 19,
   "metadata": {
    "collapsed": true,
    "jupyter": {
     "outputs_hidden": true
    }
   },
   "outputs": [
    {
     "name": "stdout",
     "output_type": "stream",
     "text": [
      "Expected results for query \"face\":\n",
      "\n",
      "DID    MATCHES\n",
      "1      114\n",
      "2      114, 11, 140\n",
      "3      202, 11, 114\n",
      "4      114, 11, 140, 21\n",
      "5      51, 11\n",
      "\n",
      "Experiment results for native gates - query \"face\":\n",
      "\n",
      "DOC 1:  {78, 87}\n",
      "DOC 2:  {103}\n",
      "DOC 3:  {100}\n",
      "DOC 4:  {9, 1}\n",
      "DOC 5:  {53}\n"
     ]
    }
   ],
   "source": [
    "print(f'Expected results for query \"{target_query.query}\":\\n')\n",
    "print_expected(shs.corpus, target_query.state)\n",
    "\n",
    "print(f'\\nExperiment results for native gates - query \"{target_query.query}\":\\n')\n",
    "dc = get_decimal_counts(results_native)\n",
    "answers = get_answers_top(dc, SHOTS)\n",
    "print_answers(answers)"
   ]
  },
  {
   "cell_type": "code",
   "execution_count": 20,
   "metadata": {
    "collapsed": true,
    "jupyter": {
     "outputs_hidden": true
    }
   },
   "outputs": [],
   "source": [
    "plot_exp_counts(dec_counts=dc, top_num=NUM_COUNTS)"
   ]
  },
  {
   "cell_type": "markdown",
   "metadata": {},
   "source": [
    "### Qiskit Functions \n",
    "* The code segment provided demonstrates one possibility of how how to integrate the IBM Runtime Circuit Function into the Semantic Hilbert Space (SHS) search process. It could allow for advanced capabilities such as automatic circuit optimization and error mitigation during the retrieval of semantic matches.\n",
    "\n",
    "In the shown code, the prepared circuits (circuits_to_run) are associated with observables (observables), forming “publications” (pubs) that represent measurement tasks yet we receive a 404 when submitting the job, I believe due to malformed PUB. By leveraging this approach, the semantic search can be performed at scale, benefiting from the runtime environment’s services and the underlying quantum hardware.\n",
    "\n",
    "```from qiskit_ibm_runtime import QiskitRuntimeService, Session, Sampler\n",
    "from qiskit.quantum_info import SparsePauliOp\n",
    "from qiskit_ibm_catalog import QiskitFunctionsCatalog\n",
    " \n",
    "catalog = QiskitFunctionsCatalog()\n",
    "function = catalog.load(\"ibm/circuit-function\")\n",
    "\n",
    "service = QiskitRuntimeService()\n",
    "backend = service.least_busy(operational=True, simulator=False)\n",
    "\n",
    "circuits_to_run = shss.circuits  # These are QuantumCircuit objects\n",
    "\n",
    "# Define observables to measure expectation values (Optional)\n",
    "n_qubits = shss.Q\n",
    "observables = [SparsePauliOp.from_sparse_list([(\"Z\", [i], 1.0)], num_qubits=n_qubits) for i in range(n_qubits)]\n",
    "\n",
    "pubs = [(circuits_to_run, observables)]\n",
    "\n",
    "job = function.run(\n",
    "    backend_name=backend.name,\n",
    "    pubs=pubs,\n",
    ")```\n",
    "\n",
    "### Qiskit Addons \n",
    "\n",
    "* Unable to implement into the but we believe that beyond the circuit functions, qiskit addons could further improve the SHS approach. \n",
    "* For instance, the AQC Add-On can be applied to optimize parameters or iteration counts within the Grover-like search procedure, ensuring higher fidelity results. \n",
    "* Similarly, the OBP Add-On introduces gradient-based refinement of operators, allowing continuous improvement of the semantic encodings over time.\n"
   ]
  },
  {
   "cell_type": "markdown",
   "metadata": {},
   "source": [
    "# 5. Experiment on Cloud Compute Resources\n",
    "## Run experiments on IonQ and IBM simulators and devices"
   ]
  },
  {
   "cell_type": "markdown",
   "metadata": {},
   "source": [
    "#### Run on IonQ Cloud Simulator"
   ]
  },
  {
   "cell_type": "code",
   "execution_count": 22,
   "metadata": {
    "collapsed": true,
    "jupyter": {
     "outputs_hidden": true
    }
   },
   "outputs": [],
   "source": [
    "# results = shss.run(shots=SHOTS, backend='ionq_simulator')"
   ]
  },
  {
   "cell_type": "code",
   "execution_count": 23,
   "metadata": {
    "collapsed": true,
    "jupyter": {
     "outputs_hidden": true
    }
   },
   "outputs": [],
   "source": [
    "# dc = get_decimal_counts(results)\n",
    "# answers  = get_answers_top(dc, SHOTS)\n",
    "# print_answers(answers)\n",
    "# plot_exp_counts(dec_counts=dc, top_num=NUM_COUNTS, answers=answers)"
   ]
  },
  {
   "cell_type": "markdown",
   "metadata": {},
   "source": [
    "#### Run on IonQ Quantum Device"
   ]
  },
  {
   "cell_type": "code",
   "execution_count": 24,
   "metadata": {
    "collapsed": true,
    "jupyter": {
     "outputs_hidden": true
    }
   },
   "outputs": [],
   "source": [
    "# results = term_search.run(shots=SHOTS, backend='ionq_qpu')"
   ]
  },
  {
   "cell_type": "code",
   "execution_count": 25,
   "metadata": {
    "collapsed": true,
    "jupyter": {
     "outputs_hidden": true
    }
   },
   "outputs": [],
   "source": [
    "# dc = get_decimal_counts(results)\n",
    "# answers  = get_answers_top(dc, SHOTS)\n",
    "# print_answers(answers)\n",
    "# plot_exp_counts(dec_counts=dc, top_num=NUM_COUNTS, answers=answers)"
   ]
  },
  {
   "cell_type": "markdown",
   "metadata": {},
   "source": [
    "#### Run on IBM Simulator"
   ]
  },
  {
   "cell_type": "code",
   "execution_count": 26,
   "metadata": {
    "collapsed": true,
    "jupyter": {
     "outputs_hidden": true
    }
   },
   "outputs": [],
   "source": [
    "# results = term_search.run(shots=SHOTS, backend='ibmq_qasm_simulator')"
   ]
  },
  {
   "cell_type": "code",
   "execution_count": 27,
   "metadata": {
    "collapsed": true,
    "jupyter": {
     "outputs_hidden": true
    }
   },
   "outputs": [],
   "source": [
    "# dc = get_decimal_counts(results)\n",
    "# answers  = get_answers_top(dc, SHOTS)\n",
    "# print_answers(answers)\n",
    "# plot_exp_counts(dec_counts=dc, top_num=NUM_COUNTS, answers=answers)"
   ]
  }
 ],
 "metadata": {
  "kernelspec": {
   "display_name": ".venv",
   "language": "python",
   "name": "python3"
  },
  "language_info": {
   "codemirror_mode": {
    "name": "ipython",
    "version": 3
   },
   "file_extension": ".py",
   "mimetype": "text/x-python",
   "name": "python",
   "nbconvert_exporter": "python",
   "pygments_lexer": "ipython3",
   "version": "3.11.0rc1"
  }
 },
 "nbformat": 4,
 "nbformat_minor": 4
}
